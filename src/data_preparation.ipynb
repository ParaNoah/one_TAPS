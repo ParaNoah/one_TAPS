{
 "cells": [
  {
   "cell_type": "markdown",
   "metadata": {},
   "source": [
    "### Import des librairies utiles pour le traitement des données"
   ]
  },
  {
   "cell_type": "code",
   "execution_count": 53,
   "metadata": {},
   "outputs": [],
   "source": [
    "import pandas as pd\n",
    "import datetime\n",
    "import seaborn as sn\n",
    "import matplotlib.pyplot as plt\n",
    "import numpy as np"
   ]
  },
  {
   "cell_type": "markdown",
   "metadata": {},
   "source": [
    "# Selection des Datasets\n",
    "\n",
    "Dataset de train et cross validation : 3, 5. C'est deux datasets contiennent du port scanning, or notre algorithme est concu pour détecter ce type d'attaque. De plus, ils sont labelisé pour pouvoir entrainer nos données\n",
    "\n",
    "\n",
    "Dataset de test : 6, 8 . Ces datasets contiennent du seulement du port scanning"
   ]
  },
  {
   "cell_type": "markdown",
   "metadata": {},
   "source": [
    "## Étude du dataset 6"
   ]
  },
  {
   "cell_type": "markdown",
   "metadata": {},
   "source": [
    "### Ouverture du Dataset 6"
   ]
  },
  {
   "cell_type": "code",
   "execution_count": 54,
   "metadata": {},
   "outputs": [
    {
     "name": "stdout",
     "output_type": "stream",
     "text": [
      "(558919, 15)\n"
     ]
    },
    {
     "data": {
      "text/html": [
       "<div>\n",
       "<style scoped>\n",
       "    .dataframe tbody tr th:only-of-type {\n",
       "        vertical-align: middle;\n",
       "    }\n",
       "\n",
       "    .dataframe tbody tr th {\n",
       "        vertical-align: top;\n",
       "    }\n",
       "\n",
       "    .dataframe thead th {\n",
       "        text-align: right;\n",
       "    }\n",
       "</style>\n",
       "<table border=\"1\" class=\"dataframe\">\n",
       "  <thead>\n",
       "    <tr style=\"text-align: right;\">\n",
       "      <th></th>\n",
       "      <th>StartTime</th>\n",
       "      <th>Dur</th>\n",
       "      <th>Proto</th>\n",
       "      <th>SrcAddr</th>\n",
       "      <th>Sport</th>\n",
       "      <th>Dir</th>\n",
       "      <th>DstAddr</th>\n",
       "      <th>Dport</th>\n",
       "      <th>State</th>\n",
       "      <th>sTos</th>\n",
       "      <th>dTos</th>\n",
       "      <th>TotPkts</th>\n",
       "      <th>TotBytes</th>\n",
       "      <th>SrcBytes</th>\n",
       "      <th>Label</th>\n",
       "    </tr>\n",
       "  </thead>\n",
       "  <tbody>\n",
       "    <tr>\n",
       "      <th>0</th>\n",
       "      <td>2011/08/16 10:04:03.820235</td>\n",
       "      <td>0.286751</td>\n",
       "      <td>tcp</td>\n",
       "      <td>67.210.234.162</td>\n",
       "      <td>3597</td>\n",
       "      <td>-&gt;</td>\n",
       "      <td>147.32.86.98</td>\n",
       "      <td>80</td>\n",
       "      <td>S_RA</td>\n",
       "      <td>0.0</td>\n",
       "      <td>0.0</td>\n",
       "      <td>4</td>\n",
       "      <td>244</td>\n",
       "      <td>124</td>\n",
       "      <td>flow=Background-TCP-Attempt</td>\n",
       "    </tr>\n",
       "    <tr>\n",
       "      <th>1</th>\n",
       "      <td>2011/08/16 10:04:04.106986</td>\n",
       "      <td>0.280358</td>\n",
       "      <td>tcp</td>\n",
       "      <td>67.210.234.162</td>\n",
       "      <td>3597</td>\n",
       "      <td>-&gt;</td>\n",
       "      <td>147.32.86.98</td>\n",
       "      <td>80</td>\n",
       "      <td>S_RA</td>\n",
       "      <td>0.0</td>\n",
       "      <td>0.0</td>\n",
       "      <td>4</td>\n",
       "      <td>244</td>\n",
       "      <td>124</td>\n",
       "      <td>flow=Background-TCP-Attempt</td>\n",
       "    </tr>\n",
       "    <tr>\n",
       "      <th>2</th>\n",
       "      <td>2011/08/16 10:04:04.387344</td>\n",
       "      <td>0.280039</td>\n",
       "      <td>tcp</td>\n",
       "      <td>67.210.234.162</td>\n",
       "      <td>3597</td>\n",
       "      <td>-&gt;</td>\n",
       "      <td>147.32.86.98</td>\n",
       "      <td>80</td>\n",
       "      <td>S_RA</td>\n",
       "      <td>0.0</td>\n",
       "      <td>0.0</td>\n",
       "      <td>4</td>\n",
       "      <td>244</td>\n",
       "      <td>124</td>\n",
       "      <td>flow=Background-TCP-Attempt</td>\n",
       "    </tr>\n",
       "    <tr>\n",
       "      <th>3</th>\n",
       "      <td>2011/08/16 10:02:54.155092</td>\n",
       "      <td>138.123184</td>\n",
       "      <td>tcp</td>\n",
       "      <td>147.32.84.59</td>\n",
       "      <td>49158</td>\n",
       "      <td>-&gt;</td>\n",
       "      <td>147.32.80.7</td>\n",
       "      <td>80</td>\n",
       "      <td>SRPA_FSPA</td>\n",
       "      <td>0.0</td>\n",
       "      <td>0.0</td>\n",
       "      <td>12</td>\n",
       "      <td>2636</td>\n",
       "      <td>638</td>\n",
       "      <td>flow=Background-Established-cmpgw-CVUT</td>\n",
       "    </tr>\n",
       "    <tr>\n",
       "      <th>4</th>\n",
       "      <td>2011/08/16 10:07:24.648890</td>\n",
       "      <td>0.306994</td>\n",
       "      <td>tcp</td>\n",
       "      <td>67.210.234.171</td>\n",
       "      <td>3255</td>\n",
       "      <td>-&gt;</td>\n",
       "      <td>147.32.84.142</td>\n",
       "      <td>80</td>\n",
       "      <td>S_RA</td>\n",
       "      <td>0.0</td>\n",
       "      <td>0.0</td>\n",
       "      <td>4</td>\n",
       "      <td>244</td>\n",
       "      <td>124</td>\n",
       "      <td>flow=Background-TCP-Attempt</td>\n",
       "    </tr>\n",
       "  </tbody>\n",
       "</table>\n",
       "</div>"
      ],
      "text/plain": [
       "                    StartTime         Dur Proto         SrcAddr  Sport    Dir  \\\n",
       "0  2011/08/16 10:04:03.820235    0.286751   tcp  67.210.234.162   3597     ->   \n",
       "1  2011/08/16 10:04:04.106986    0.280358   tcp  67.210.234.162   3597     ->   \n",
       "2  2011/08/16 10:04:04.387344    0.280039   tcp  67.210.234.162   3597     ->   \n",
       "3  2011/08/16 10:02:54.155092  138.123184   tcp    147.32.84.59  49158     ->   \n",
       "4  2011/08/16 10:07:24.648890    0.306994   tcp  67.210.234.171   3255     ->   \n",
       "\n",
       "         DstAddr Dport      State  sTos  dTos  TotPkts  TotBytes  SrcBytes  \\\n",
       "0   147.32.86.98    80       S_RA   0.0   0.0        4       244       124   \n",
       "1   147.32.86.98    80       S_RA   0.0   0.0        4       244       124   \n",
       "2   147.32.86.98    80       S_RA   0.0   0.0        4       244       124   \n",
       "3    147.32.80.7    80  SRPA_FSPA   0.0   0.0       12      2636       638   \n",
       "4  147.32.84.142    80       S_RA   0.0   0.0        4       244       124   \n",
       "\n",
       "                                    Label  \n",
       "0             flow=Background-TCP-Attempt  \n",
       "1             flow=Background-TCP-Attempt  \n",
       "2             flow=Background-TCP-Attempt  \n",
       "3  flow=Background-Established-cmpgw-CVUT  \n",
       "4             flow=Background-TCP-Attempt  "
      ]
     },
     "execution_count": 54,
     "metadata": {},
     "output_type": "execute_result"
    }
   ],
   "source": [
    "df6 = pd.read_csv(r\"..\\Data\\CTU-13-Dataset\\6\\capture20110816.binetflow\", sep=\",\")\n",
    "print(df6.shape)\n",
    "df6.head()"
   ]
  },
  {
   "cell_type": "markdown",
   "metadata": {},
   "source": [
    "Modifier le format de la colonne \"StartTime\" en datetime."
   ]
  },
  {
   "cell_type": "code",
   "execution_count": 55,
   "metadata": {},
   "outputs": [],
   "source": [
    "def strdate_to_datetime(df):\n",
    "    df[\"StartTime\"] = pd.to_datetime(df[\"StartTime\"], format='mixed')\n",
    "    return df"
   ]
  },
  {
   "cell_type": "code",
   "execution_count": 56,
   "metadata": {},
   "outputs": [],
   "source": [
    "df6 = strdate_to_datetime(df6)"
   ]
  },
  {
   "cell_type": "markdown",
   "metadata": {},
   "source": [
    "Afficher le nombre d'adresses IP source et destination distinctes dans le dataset "
   ]
  },
  {
   "cell_type": "code",
   "execution_count": 57,
   "metadata": {},
   "outputs": [],
   "source": [
    "def affichage_IP_addresses(df):\n",
    "    source_IP = df[\"SrcAddr\"].value_counts()\n",
    "    dest_IP = df[\"DstAddr\"].value_counts()\n",
    "    return source_IP, dest_IP"
   ]
  },
  {
   "cell_type": "code",
   "execution_count": 58,
   "metadata": {},
   "outputs": [
    {
     "name": "stdout",
     "output_type": "stream",
     "text": [
      "72345 42434\n"
     ]
    }
   ],
   "source": [
    "source_IP, dest_IP = affichage_IP_addresses(df6)\n",
    "print(len(source_IP), len(dest_IP))"
   ]
  },
  {
   "cell_type": "markdown",
   "metadata": {},
   "source": [
    "Afficher les valeurs min, max de la colonne \"StartTime\" et la durée d'acquision des flux du dataset"
   ]
  },
  {
   "cell_type": "code",
   "execution_count": 59,
   "metadata": {},
   "outputs": [],
   "source": [
    "def get_start_time_values(df):\n",
    "    max = df[\"StartTime\"].max()\n",
    "    min = df[\"StartTime\"].min()\n",
    "    return max, min, max - min"
   ]
  },
  {
   "cell_type": "code",
   "execution_count": 60,
   "metadata": {},
   "outputs": [
    {
     "name": "stdout",
     "output_type": "stream",
     "text": [
      "2011-08-16 10:01:46.972101 2011-08-16 12:10:56.805092 0 days 02:09:09.832991\n"
     ]
    }
   ],
   "source": [
    "max, min, dur = get_start_time_values(df6)\n",
    "print(min, max, dur)"
   ]
  },
  {
   "cell_type": "markdown",
   "metadata": {},
   "source": [
    "Afficher les durées max, min, et moyenne des flux dans le dataset"
   ]
  },
  {
   "cell_type": "code",
   "execution_count": 61,
   "metadata": {},
   "outputs": [],
   "source": [
    "def get_dur_values(df):\n",
    "    min = df[\"Dur\"].min()\n",
    "    max = df[\"Dur\"].max()\n",
    "    moy = df[\"Dur\"].mean()\n",
    "    return min, max, moy"
   ]
  },
  {
   "cell_type": "code",
   "execution_count": 62,
   "metadata": {},
   "outputs": [
    {
     "name": "stdout",
     "output_type": "stream",
     "text": [
      "0.0 3600.0 244.2579428383092\n"
     ]
    }
   ],
   "source": [
    "min, max, moy = get_dur_values(df6)\n",
    "print(min, max, moy)"
   ]
  },
  {
   "cell_type": "markdown",
   "metadata": {},
   "source": [
    "Afficher les différentes valeurs prise par la colonne \"Proto\""
   ]
  },
  {
   "cell_type": "code",
   "execution_count": 63,
   "metadata": {},
   "outputs": [],
   "source": [
    "def get_proto_values(df):\n",
    "    proto_values = df[\"Proto\"].value_counts()\n",
    "    return proto_values"
   ]
  },
  {
   "cell_type": "code",
   "execution_count": 64,
   "metadata": {},
   "outputs": [
    {
     "name": "stdout",
     "output_type": "stream",
     "text": [
      "Proto\n",
      "udp          421045\n",
      "tcp          128447\n",
      "icmp           7950\n",
      "igmp            628\n",
      "rtp             349\n",
      "rtcp            266\n",
      "arp             195\n",
      "ipv6-icmp        21\n",
      "esp               7\n",
      "ipx/spx           5\n",
      "pim               3\n",
      "ipv6              2\n",
      "udt               1\n",
      "Name: count, dtype: int64\n"
     ]
    }
   ],
   "source": [
    "proto_values = get_proto_values(df6)\n",
    "print(proto_values)"
   ]
  },
  {
   "cell_type": "markdown",
   "metadata": {},
   "source": [
    "Afficher le nombre total de ports source distincts dans le dataset "
   ]
  },
  {
   "cell_type": "code",
   "execution_count": 65,
   "metadata": {},
   "outputs": [],
   "source": [
    "def get_Sport_values(df):\n",
    "    Sport_values = df[\"Sport\"].value_counts()\n",
    "    return Sport_values"
   ]
  },
  {
   "cell_type": "code",
   "execution_count": 66,
   "metadata": {},
   "outputs": [
    {
     "name": "stdout",
     "output_type": "stream",
     "text": [
      "Sport\n",
      "13363     30036\n",
      "7103       9136\n",
      "0x0303     2758\n",
      "80         2298\n",
      "7525       2045\n",
      "          ...  \n",
      "26878         1\n",
      "12670         1\n",
      "6036          1\n",
      "10760         1\n",
      "16846         1\n",
      "Name: count, Length: 57515, dtype: int64\n",
      "57515\n"
     ]
    }
   ],
   "source": [
    "Sport_values = get_Sport_values(df6)\n",
    "print(Sport_values)\n",
    "print(len(Sport_values))"
   ]
  },
  {
   "cell_type": "markdown",
   "metadata": {},
   "source": [
    "Afficher le nombre total de ports destination distincts dans le dataset "
   ]
  },
  {
   "cell_type": "code",
   "execution_count": 67,
   "metadata": {},
   "outputs": [],
   "source": [
    "def get_Dport_values(df):\n",
    "    Dport_values = df[\"Dport\"].value_counts()\n",
    "    return Dport_values"
   ]
  },
  {
   "cell_type": "code",
   "execution_count": 68,
   "metadata": {},
   "outputs": [
    {
     "name": "stdout",
     "output_type": "stream",
     "text": [
      "Dport\n",
      "53        269488\n",
      "13363      87452\n",
      "80         84556\n",
      "443        18393\n",
      "25          4821\n",
      "           ...  \n",
      "41584          1\n",
      "6022           1\n",
      "7821           1\n",
      "0x54d9         1\n",
      "0x926f         1\n",
      "Name: count, Length: 30361, dtype: int64\n",
      "30361\n"
     ]
    }
   ],
   "source": [
    "Dport_values = get_Dport_values(df6)\n",
    "print(Dport_values)\n",
    "print(len(Dport_values))"
   ]
  },
  {
   "cell_type": "markdown",
   "metadata": {},
   "source": [
    "Afficher les différentes valeurs prise par la colonne \"Label\" dans le dataset et leur répartition."
   ]
  },
  {
   "cell_type": "code",
   "execution_count": 69,
   "metadata": {},
   "outputs": [],
   "source": [
    "def hist_of_label_values(df):\n",
    "    label_values = df['Label'].value_counts()\n",
    "    print(label_values)\n",
    "    print(len(label_values))\n",
    "    total_traffic = 0\n",
    "    background_count = 0\n",
    "    normal_count = 0\n",
    "    botnet_count = 0\n",
    "    for label_index in label_values.index:\n",
    "        if \"Background\" in label_index:\n",
    "            background_count += label_values[label_index]\n",
    "        elif \"Normal\" in label_index:\n",
    "            normal_count += label_values[label_index]\n",
    "        elif \"Botnet\" in label_index:\n",
    "            botnet_count += label_values[label_index]\n",
    "        total_traffic += label_values[label_index]\n",
    "\n",
    "    label_repartition = {\"Background traffic\": background_count, \"Normal traffic\": normal_count, \"Botnet traffic\": botnet_count}\n",
    "\n",
    "    print(label_repartition)\n",
    "\n",
    "    plt.bar(label_repartition.keys(),label_repartition.values(), color='g')\n",
    "    plt.show()\n",
    "    \n",
    "    percentage_of_traffic = {}\n",
    "    for key in label_repartition:\n",
    "        percentage_of_traffic[key] = f\"{np.round((label_repartition[key]/total_traffic)*100, 2)}%\"\n",
    "    \n",
    "    print(percentage_of_traffic)"
   ]
  },
  {
   "cell_type": "code",
   "execution_count": 70,
   "metadata": {},
   "outputs": [
    {
     "name": "stdout",
     "output_type": "stream",
     "text": [
      "Label\n",
      "flow=To-Background-UDP-CVUT-DNS-Server             261525\n",
      "flow=Background-UDP-Established                    128117\n",
      "flow=Background-TCP-Established                     66424\n",
      "flow=Background-Established-cmpgw-CVUT              40960\n",
      "flow=Background-UDP-Attempt                         14608\n",
      "flow=Background                                     11632\n",
      "flow=To-Background-CVUT-Proxy                        8444\n",
      "flow=From-Normal-V47-Stribrek                        5488\n",
      "flow=From-Botnet-V47-TCP-Attempt-SPAM                4398\n",
      "flow=Background-TCP-Attempt                          4179\n",
      "flow=Background-Attempt-cmpgw-CVUT                   3616\n",
      "flow=From-Normal-V47-Grill                           1245\n",
      "flow=To-Background-CVUT-WebServer                    1034\n",
      "flow=Background-UDP-NTP-Established-1                 887\n",
      "flow=From-Normal-V47-Jist                             682\n",
      "flow=From-Background-CVUT-Proxy                       451\n",
      "flow=Background-google-analytics2                     323\n",
      "flow=Background-google-analytics8                     320\n",
      "flow=Background-google-analytics7                     314\n",
      "flow=Background-google-analytics3                     287\n",
      "flow=To-Background-MatLab-Server                      283\n",
      "flow=Background-google-analytics16                    281\n",
      "flow=Background-google-webmail                        273\n",
      "flow=Background-google-analytics13                    254\n",
      "flow=Background-google-analytics10                    243\n",
      "flow=Background-google-analytics12                    240\n",
      "flow=Background-google-analytics5                     236\n",
      "flow=Background-google-analytics11                    229\n",
      "flow=Background-google-analytics1                     223\n",
      "flow=Background-google-analytics6                     217\n",
      "flow=Background-google-analytics14                    209\n",
      "flow=Background-google-analytics9                     206\n",
      "flow=Background-google-analytics4                     199\n",
      "flow=From-Botnet-V47-TCP-CC73-Not-Encrypted           199\n",
      "flow=Background-google-analytics15                    173\n",
      "flow=Background-ajax.google                           145\n",
      "flow=Background-www.fel.cvut.cz                       116\n",
      "flow=Background-google-pop                             91\n",
      "flow=From-Normal-V47-CVUT-WebServer                    34\n",
      "flow=From-Botnet-V47-UDP-DNS                           29\n",
      "flow=To-Background-Grill                               27\n",
      "flow=To-Normal-V47-UDP-NTP-server                      22\n",
      "flow=From-Normal-V47-UDP-CVUT-DNS-Server               20\n",
      "flow=To-Background-Jist                                17\n",
      "flow=To-Background-Stribrek                            12\n",
      "flow=From-Normal-V47-MatLab-Server                      2\n",
      "flow=From-Botnet-V47-TCP-Established-HTTP-Ad-4          1\n",
      "flow=Normal-V47-HTTP-windowsupdate                      1\n",
      "flow=From-Botnet-V47-TCP-Established-HTTP-Ad-62         1\n",
      "flow=From-Botnet-V47-TCP-Attempt                        1\n",
      "flow=From-Botnet-V47-UDP-Attempt                        1\n",
      "Name: count, dtype: int64\n",
      "51\n",
      "{'Background traffic': 546795, 'Normal traffic': 7494, 'Botnet traffic': 4630}\n"
     ]
    },
    {
     "data": {
      "image/png": "[encoded data removed]",
      "text/plain": [
       "<Figure size 640x480 with 1 Axes>"
      ]
     },
     "metadata": {},
     "output_type": "display_data"
    },
    {
     "name": "stdout",
     "output_type": "stream",
     "text": [
      "{'Background traffic': '97.83%', 'Normal traffic': '1.34%', 'Botnet traffic': '0.83%'}\n"
     ]
    }
   ],
   "source": [
    "hist_of_label_values(df6)"
   ]
  },
  {
   "cell_type": "markdown",
   "metadata": {},
   "source": [
    "## Étude du dataset 8"
   ]
  },
  {
   "cell_type": "markdown",
   "metadata": {},
   "source": [
    "### Ouverture du Dataset 8"
   ]
  },
  {
   "cell_type": "code",
   "execution_count": 71,
   "metadata": {},
   "outputs": [
    {
     "name": "stdout",
     "output_type": "stream",
     "text": [
      "(2954230, 15)\n"
     ]
    },
    {
     "data": {
      "text/html": [
       "<div>\n",
       "<style scoped>\n",
       "    .dataframe tbody tr th:only-of-type {\n",
       "        vertical-align: middle;\n",
       "    }\n",
       "\n",
       "    .dataframe tbody tr th {\n",
       "        vertical-align: top;\n",
       "    }\n",
       "\n",
       "    .dataframe thead th {\n",
       "        text-align: right;\n",
       "    }\n",
       "</style>\n",
       "<table border=\"1\" class=\"dataframe\">\n",
       "  <thead>\n",
       "    <tr style=\"text-align: right;\">\n",
       "      <th></th>\n",
       "      <th>StartTime</th>\n",
       "      <th>Dur</th>\n",
       "      <th>Proto</th>\n",
       "      <th>SrcAddr</th>\n",
       "      <th>Sport</th>\n",
       "      <th>Dir</th>\n",
       "      <th>DstAddr</th>\n",
       "      <th>Dport</th>\n",
       "      <th>State</th>\n",
       "      <th>sTos</th>\n",
       "      <th>dTos</th>\n",
       "      <th>TotPkts</th>\n",
       "      <th>TotBytes</th>\n",
       "      <th>SrcBytes</th>\n",
       "      <th>Label</th>\n",
       "    </tr>\n",
       "  </thead>\n",
       "  <tbody>\n",
       "    <tr>\n",
       "      <th>0</th>\n",
       "      <td>2011/08/16 14:23:17.316620</td>\n",
       "      <td>0.983988</td>\n",
       "      <td>tcp</td>\n",
       "      <td>147.32.3.51</td>\n",
       "      <td>4519</td>\n",
       "      <td>-&gt;</td>\n",
       "      <td>147.32.84.46</td>\n",
       "      <td>10010</td>\n",
       "      <td>S_RA</td>\n",
       "      <td>0.0</td>\n",
       "      <td>0.0</td>\n",
       "      <td>4</td>\n",
       "      <td>244</td>\n",
       "      <td>124</td>\n",
       "      <td>flow=Background-TCP-Attempt</td>\n",
       "    </tr>\n",
       "    <tr>\n",
       "      <th>1</th>\n",
       "      <td>2011/08/16 14:25:13.585599</td>\n",
       "      <td>0.909895</td>\n",
       "      <td>tcp</td>\n",
       "      <td>147.32.84.59</td>\n",
       "      <td>61591</td>\n",
       "      <td>-&gt;</td>\n",
       "      <td>199.59.149.200</td>\n",
       "      <td>443</td>\n",
       "      <td>SR_A</td>\n",
       "      <td>0.0</td>\n",
       "      <td>0.0</td>\n",
       "      <td>3</td>\n",
       "      <td>204</td>\n",
       "      <td>138</td>\n",
       "      <td>flow=Background-Established-cmpgw-CVUT</td>\n",
       "    </tr>\n",
       "    <tr>\n",
       "      <th>2</th>\n",
       "      <td>2011/08/16 14:26:27.614070</td>\n",
       "      <td>3.067423</td>\n",
       "      <td>tcp</td>\n",
       "      <td>217.129.160.86</td>\n",
       "      <td>2228</td>\n",
       "      <td>-&gt;</td>\n",
       "      <td>147.32.84.229</td>\n",
       "      <td>13363</td>\n",
       "      <td>SR_SA</td>\n",
       "      <td>0.0</td>\n",
       "      <td>0.0</td>\n",
       "      <td>3</td>\n",
       "      <td>184</td>\n",
       "      <td>122</td>\n",
       "      <td>flow=Background-TCP-Established</td>\n",
       "    </tr>\n",
       "    <tr>\n",
       "      <th>3</th>\n",
       "      <td>2011/08/16 14:26:29.245037</td>\n",
       "      <td>2.856905</td>\n",
       "      <td>tcp</td>\n",
       "      <td>217.129.160.86</td>\n",
       "      <td>2231</td>\n",
       "      <td>-&gt;</td>\n",
       "      <td>147.32.84.229</td>\n",
       "      <td>443</td>\n",
       "      <td>SR_SA</td>\n",
       "      <td>0.0</td>\n",
       "      <td>0.0</td>\n",
       "      <td>3</td>\n",
       "      <td>184</td>\n",
       "      <td>122</td>\n",
       "      <td>flow=Background-TCP-Established</td>\n",
       "    </tr>\n",
       "    <tr>\n",
       "      <th>4</th>\n",
       "      <td>2011/08/16 14:26:30.868242</td>\n",
       "      <td>2.985940</td>\n",
       "      <td>tcp</td>\n",
       "      <td>217.129.160.86</td>\n",
       "      <td>2234</td>\n",
       "      <td>-&gt;</td>\n",
       "      <td>147.32.84.229</td>\n",
       "      <td>80</td>\n",
       "      <td>SR_SA</td>\n",
       "      <td>0.0</td>\n",
       "      <td>0.0</td>\n",
       "      <td>3</td>\n",
       "      <td>184</td>\n",
       "      <td>122</td>\n",
       "      <td>flow=Background-TCP-Established</td>\n",
       "    </tr>\n",
       "  </tbody>\n",
       "</table>\n",
       "</div>"
      ],
      "text/plain": [
       "                    StartTime       Dur Proto         SrcAddr  Sport    Dir  \\\n",
       "0  2011/08/16 14:23:17.316620  0.983988   tcp     147.32.3.51   4519     ->   \n",
       "1  2011/08/16 14:25:13.585599  0.909895   tcp    147.32.84.59  61591     ->   \n",
       "2  2011/08/16 14:26:27.614070  3.067423   tcp  217.129.160.86   2228     ->   \n",
       "3  2011/08/16 14:26:29.245037  2.856905   tcp  217.129.160.86   2231     ->   \n",
       "4  2011/08/16 14:26:30.868242  2.985940   tcp  217.129.160.86   2234     ->   \n",
       "\n",
       "          DstAddr  Dport  State  sTos  dTos  TotPkts  TotBytes  SrcBytes  \\\n",
       "0    147.32.84.46  10010   S_RA   0.0   0.0        4       244       124   \n",
       "1  199.59.149.200    443   SR_A   0.0   0.0        3       204       138   \n",
       "2   147.32.84.229  13363  SR_SA   0.0   0.0        3       184       122   \n",
       "3   147.32.84.229    443  SR_SA   0.0   0.0        3       184       122   \n",
       "4   147.32.84.229     80  SR_SA   0.0   0.0        3       184       122   \n",
       "\n",
       "                                    Label  \n",
       "0             flow=Background-TCP-Attempt  \n",
       "1  flow=Background-Established-cmpgw-CVUT  \n",
       "2         flow=Background-TCP-Established  \n",
       "3         flow=Background-TCP-Established  \n",
       "4         flow=Background-TCP-Established  "
      ]
     },
     "execution_count": 71,
     "metadata": {},
     "output_type": "execute_result"
    }
   ],
   "source": [
    "df8 = pd.read_csv(r\"..\\Data\\CTU-13-Dataset\\8\\capture20110816-3.binetflow\", sep=\",\")\n",
    "\n",
    "print(df8.shape)\n",
    "df8.head()"
   ]
  },
  {
   "cell_type": "markdown",
   "metadata": {},
   "source": [
    "Modififer le format de la colonne \"StartTime\" en datetime"
   ]
  },
  {
   "cell_type": "code",
   "execution_count": 72,
   "metadata": {},
   "outputs": [],
   "source": [
    "df8 = strdate_to_datetime(df8)"
   ]
  },
  {
   "cell_type": "markdown",
   "metadata": {},
   "source": [
    "Afficher le nombre d'adresses IP source et destination distinctes dans le dataset "
   ]
  },
  {
   "cell_type": "code",
   "execution_count": 73,
   "metadata": {},
   "outputs": [
    {
     "name": "stdout",
     "output_type": "stream",
     "text": [
      "SrcAddr\n",
      "147.32.84.138     635712\n",
      "147.32.84.59      278512\n",
      "147.32.84.229     177898\n",
      "147.32.85.25      148141\n",
      "147.32.86.20      113813\n",
      "                   ...  \n",
      "94.66.160.156          1\n",
      "66.87.118.63           1\n",
      "189.15.152.211         1\n",
      "83.205.245.21          1\n",
      "72.225.154.183         1\n",
      "Name: count, Length: 333816, dtype: int64 DstAddr\n",
      "147.32.80.9       1374364\n",
      "147.32.84.229      736363\n",
      "188.138.84.239      27677\n",
      "147.32.80.13        23905\n",
      "195.113.0.43        18899\n",
      "                   ...   \n",
      "207.68.230.56           1\n",
      "89.245.109.179          1\n",
      "72.139.0.216            1\n",
      "24.15.63.161            1\n",
      "222.13.210.74           1\n",
      "Name: count, Length: 97822, dtype: int64\n",
      "333816 97822\n"
     ]
    }
   ],
   "source": [
    "source_IP, dest_IP = affichage_IP_addresses(df8)\n",
    "print(source_IP,dest_IP)\n",
    "print(len(source_IP), len(dest_IP))"
   ]
  },
  {
   "cell_type": "markdown",
   "metadata": {},
   "source": [
    "Afficher les valeurs min, max de la colonne \"StartTime\" et la durée d'acquision des flux du dataset"
   ]
  },
  {
   "cell_type": "code",
   "execution_count": 74,
   "metadata": {},
   "outputs": [
    {
     "name": "stdout",
     "output_type": "stream",
     "text": [
      "2011-08-16 14:18:55.889839 2011-08-17 09:47:11.231725 0 days 19:28:15.341886\n"
     ]
    }
   ],
   "source": [
    "max, min, dur = get_start_time_values(df8)\n",
    "print(min, max, dur)"
   ]
  },
  {
   "cell_type": "markdown",
   "metadata": {},
   "source": [
    "Afficher les différentes valeurs prise par la colonne \"Label\" dans le dataset et leur répartition."
   ]
  },
  {
   "cell_type": "code",
   "execution_count": 75,
   "metadata": {},
   "outputs": [
    {
     "name": "stdout",
     "output_type": "stream",
     "text": [
      "Label\n",
      "flow=To-Background-UDP-CVUT-DNS-Server                                          1331472\n",
      "flow=Background-UDP-Established                                                  875967\n",
      "flow=Background-TCP-Established                                                  316366\n",
      "flow=Background-Established-cmpgw-CVUT                                           106864\n",
      "flow=Background-UDP-Attempt                                                       70708\n",
      "flow=Background                                                                   60003\n",
      "flow=Background-TCP-Attempt                                                       56007\n",
      "flow=From-Normal-V49-Stribrek                                                     48588\n",
      "flow=To-Background-CVUT-Proxy                                                     23886\n",
      "flow=From-Normal-V49-Grill                                                        18164\n",
      "flow=Background-Attempt-cmpgw-CVUT                                                 8030\n",
      "flow=To-Background-CVUT-WebServer                                                  7235\n",
      "flow=Background-UDP-NTP-Established-1                                              6728\n",
      "flow=From-Normal-V49-Jist                                                          5463\n",
      "flow=From-Botnet-V49-TCP-Attempt                                                   4710\n",
      "flow=To-Background-MatLab-Server                                                   2632\n",
      "flow=From-Botnet-V49-TCP-CC74-HTTP-Custom-Port-Not-Encrypted                       1057\n",
      "flow=From-Background-CVUT-Proxy                                                     799\n",
      "flow=Background-google-pop                                                          722\n",
      "flow=Background-google-webmail                                                      662\n",
      "flow=Background-google-analytics5                                                   506\n",
      "flow=Background-google-analytics6                                                   470\n",
      "flow=Background-google-analytics11                                                  442\n",
      "flow=Background-google-analytics3                                                   429\n",
      "flow=Background-google-analytics14                                                  428\n",
      "flow=Background-google-analytics16                                                  426\n",
      "flow=Background-google-analytics7                                                   426\n",
      "flow=Background-google-analytics13                                                  425\n",
      "flow=Background-google-analytics8                                                   424\n",
      "flow=Background-google-analytics4                                                   418\n",
      "flow=Background-google-analytics9                                                   406\n",
      "flow=Background-google-analytics1                                                   398\n",
      "flow=Background-google-analytics15                                                  385\n",
      "flow=Background-google-analytics10                                                  366\n",
      "flow=From-Normal-V49-CVUT-WebServer                                                 359\n",
      "flow=Background-google-analytics2                                                   356\n",
      "flow=Background-google-analytics12                                                  352\n",
      "flow=To-Normal-V49-UDP-NTP-server                                                   182\n",
      "flow=To-Background-Grill                                                            174\n",
      "flow=Background-ajax.google                                                         164\n",
      "flow=From-Botnet-V49-UDP-Established-Custom-Encryption-1                            127\n",
      "flow=To-Background-Stribrek                                                         107\n",
      "flow=From-Botnet-V49-UDP-Established-Custom-Encryption-2                             94\n",
      "flow=Background-www.fel.cvut.cz                                                      73\n",
      "flow=From-Botnet-V49-UDP-DNS                                                         69\n",
      "flow=From-Normal-V49-UDP-CVUT-DNS-Server                                             46\n",
      "flow=To-Background-Jist                                                              25\n",
      "flow=From-Botnet-V49-TCP-WEB-Established                                             22\n",
      "flow=From-Botnet-V49-UDP-Established                                                 19\n",
      "flow=From-Normal-V49-MatLab-Server                                                   19\n",
      "flow=From-Botnet-V49-TCP-CC75-HTTP-Custom-Port-Not-Encrypted-Non-Periodic            16\n",
      "flow=From-Botnet-V49-TCP-Established-HTTP-Ad-40                                       3\n",
      "flow=From-Botnet-V49-UDP-Attempt                                                      3\n",
      "flow=From-Botnet-V49-TCP-Established-HTTP-Binary-Download-11                          2\n",
      "flow=From-Botnet-V49-ICMP                                                             1\n",
      "flow=From-Botnet-V49-TCP-Established                                                  1\n",
      "flow=From-Botnet-V49-TCP-Established-HTTP-Ad-62                                       1\n",
      "flow=From-Botnet-V49-TCP-CC76-HTTP-Custom-Port-Not-Encrypted-Binary-Download          1\n",
      "flow=From-Botnet-V49-TCP-HTTP-Google-Net-Established-6                                1\n",
      "flow=Normal-V49-HTTP-windowsupdate                                                    1\n",
      "Name: count, dtype: int64\n",
      "60\n",
      "{'Background traffic': 2875281, 'Normal traffic': 72822, 'Botnet traffic': 6127}\n"
     ]
    },
    {
     "data": {
      "image/png": "[encoded data removed]",
      "text/plain": [
       "<Figure size 640x480 with 1 Axes>"
      ]
     },
     "metadata": {},
     "output_type": "display_data"
    },
    {
     "name": "stdout",
     "output_type": "stream",
     "text": [
      "{'Background traffic': '97.33%', 'Normal traffic': '2.47%', 'Botnet traffic': '0.21%'}\n"
     ]
    }
   ],
   "source": [
    "hist_of_label_values(df8)"
   ]
  },
  {
   "cell_type": "markdown",
   "metadata": {},
   "source": [
    "## Création des datasets de train et de test"
   ]
  },
  {
   "cell_type": "markdown",
   "metadata": {},
   "source": [
    "### Division des datasets entre les flow produit par le botnet et ceux produit par les utilisateurs normaux et le background"
   ]
  },
  {
   "cell_type": "markdown",
   "metadata": {},
   "source": [
    "Fonction permettant de séparer le traffic produit par le botnet du traffic normal et background"
   ]
  },
  {
   "cell_type": "code",
   "execution_count": 76,
   "metadata": {},
   "outputs": [],
   "source": [
    "def separate_botnet(df):\n",
    "    label_values  = df[\"Label\"].values\n",
    "    label_botnet = []\n",
    "    df_botnet = pd.DataFrame()\n",
    "    df_normal_background = pd.DataFrame()\n",
    "    label_background_normal = []\n",
    "    for label_value in label_values:\n",
    "        if 'Botnet' in label_value:\n",
    "            label_botnet.append(label_value)\n",
    "        else:\n",
    "            label_background_normal.append(label_value)\n",
    "    label_botnet = set(label_botnet)\n",
    "    label_background_normal = set(label_background_normal)\n",
    "    for label in label_botnet:\n",
    "        df_botnet_part = df[df['Label'] == label]\n",
    "        df_botnet = pd.concat([df_botnet, df_botnet_part])\n",
    "    for label in label_background_normal:\n",
    "        df_normal_background_part = df[df['Label'] == label]\n",
    "        df_normal_background = pd.concat([df_normal_background, df_normal_background_part])\n",
    "    return df_botnet, df_normal_background"
   ]
  },
  {
   "cell_type": "markdown",
   "metadata": {},
   "source": [
    "Séparer le traffic pour le dataset 6"
   ]
  },
  {
   "cell_type": "code",
   "execution_count": 77,
   "metadata": {},
   "outputs": [],
   "source": [
    "df_botnet6, df_normal_background6 = separate_botnet(df6)"
   ]
  },
  {
   "cell_type": "code",
   "execution_count": 78,
   "metadata": {},
   "outputs": [
    {
     "name": "stdout",
     "output_type": "stream",
     "text": [
      "(4630, 15)\n"
     ]
    },
    {
     "data": {
      "text/html": [
       "<div>\n",
       "<style scoped>\n",
       "    .dataframe tbody tr th:only-of-type {\n",
       "        vertical-align: middle;\n",
       "    }\n",
       "\n",
       "    .dataframe tbody tr th {\n",
       "        vertical-align: top;\n",
       "    }\n",
       "\n",
       "    .dataframe thead th {\n",
       "        text-align: right;\n",
       "    }\n",
       "</style>\n",
       "<table border=\"1\" class=\"dataframe\">\n",
       "  <thead>\n",
       "    <tr style=\"text-align: right;\">\n",
       "      <th></th>\n",
       "      <th>StartTime</th>\n",
       "      <th>Dur</th>\n",
       "      <th>Proto</th>\n",
       "      <th>SrcAddr</th>\n",
       "      <th>Sport</th>\n",
       "      <th>Dir</th>\n",
       "      <th>DstAddr</th>\n",
       "      <th>Dport</th>\n",
       "      <th>State</th>\n",
       "      <th>sTos</th>\n",
       "      <th>dTos</th>\n",
       "      <th>TotPkts</th>\n",
       "      <th>TotBytes</th>\n",
       "      <th>SrcBytes</th>\n",
       "      <th>Label</th>\n",
       "    </tr>\n",
       "  </thead>\n",
       "  <tbody>\n",
       "    <tr>\n",
       "      <th>221183</th>\n",
       "      <td>2011-08-16 10:50:25.183793</td>\n",
       "      <td>9.013207</td>\n",
       "      <td>tcp</td>\n",
       "      <td>147.32.84.165</td>\n",
       "      <td>2974</td>\n",
       "      <td>-&gt;</td>\n",
       "      <td>192.168.88.148</td>\n",
       "      <td>2869</td>\n",
       "      <td>S_</td>\n",
       "      <td>0.0</td>\n",
       "      <td>NaN</td>\n",
       "      <td>3</td>\n",
       "      <td>186</td>\n",
       "      <td>186</td>\n",
       "      <td>flow=From-Botnet-V47-TCP-Attempt</td>\n",
       "    </tr>\n",
       "    <tr>\n",
       "      <th>488879</th>\n",
       "      <td>2011-08-16 11:53:24.272627</td>\n",
       "      <td>0.000000</td>\n",
       "      <td>udp</td>\n",
       "      <td>147.32.84.165</td>\n",
       "      <td>123</td>\n",
       "      <td>-&gt;</td>\n",
       "      <td>65.55.56.40</td>\n",
       "      <td>123</td>\n",
       "      <td>INT</td>\n",
       "      <td>0.0</td>\n",
       "      <td>NaN</td>\n",
       "      <td>1</td>\n",
       "      <td>90</td>\n",
       "      <td>90</td>\n",
       "      <td>flow=From-Botnet-V47-UDP-Attempt</td>\n",
       "    </tr>\n",
       "    <tr>\n",
       "      <th>108816</th>\n",
       "      <td>2011-08-16 10:26:51.686433</td>\n",
       "      <td>60.003040</td>\n",
       "      <td>tcp</td>\n",
       "      <td>147.32.84.165</td>\n",
       "      <td>1123</td>\n",
       "      <td>-&gt;</td>\n",
       "      <td>195.113.232.90</td>\n",
       "      <td>80</td>\n",
       "      <td>SRPA_SPA</td>\n",
       "      <td>0.0</td>\n",
       "      <td>0.0</td>\n",
       "      <td>8</td>\n",
       "      <td>1687</td>\n",
       "      <td>500</td>\n",
       "      <td>flow=From-Botnet-V47-TCP-Established-HTTP-Ad-62</td>\n",
       "    </tr>\n",
       "    <tr>\n",
       "      <th>2935</th>\n",
       "      <td>2011-08-16 10:02:08.872739</td>\n",
       "      <td>500.003357</td>\n",
       "      <td>tcp</td>\n",
       "      <td>147.32.84.165</td>\n",
       "      <td>1039</td>\n",
       "      <td>-&gt;</td>\n",
       "      <td>195.113.232.73</td>\n",
       "      <td>80</td>\n",
       "      <td>SPA_FSPA</td>\n",
       "      <td>0.0</td>\n",
       "      <td>0.0</td>\n",
       "      <td>14</td>\n",
       "      <td>5498</td>\n",
       "      <td>531</td>\n",
       "      <td>flow=From-Botnet-V47-TCP-Established-HTTP-Ad-4</td>\n",
       "    </tr>\n",
       "    <tr>\n",
       "      <th>39074</th>\n",
       "      <td>2011-08-16 10:09:58.055700</td>\n",
       "      <td>1.896288</td>\n",
       "      <td>tcp</td>\n",
       "      <td>147.32.84.165</td>\n",
       "      <td>1040</td>\n",
       "      <td>-&gt;</td>\n",
       "      <td>91.212.135.158</td>\n",
       "      <td>5678</td>\n",
       "      <td>FSPA_FSPA</td>\n",
       "      <td>0.0</td>\n",
       "      <td>0.0</td>\n",
       "      <td>1417</td>\n",
       "      <td>1255401</td>\n",
       "      <td>32823</td>\n",
       "      <td>flow=From-Botnet-V47-TCP-CC73-Not-Encrypted</td>\n",
       "    </tr>\n",
       "  </tbody>\n",
       "</table>\n",
       "</div>"
      ],
      "text/plain": [
       "                        StartTime         Dur Proto        SrcAddr Sport  \\\n",
       "221183 2011-08-16 10:50:25.183793    9.013207   tcp  147.32.84.165  2974   \n",
       "488879 2011-08-16 11:53:24.272627    0.000000   udp  147.32.84.165   123   \n",
       "108816 2011-08-16 10:26:51.686433   60.003040   tcp  147.32.84.165  1123   \n",
       "2935   2011-08-16 10:02:08.872739  500.003357   tcp  147.32.84.165  1039   \n",
       "39074  2011-08-16 10:09:58.055700    1.896288   tcp  147.32.84.165  1040   \n",
       "\n",
       "          Dir         DstAddr Dport      State  sTos  dTos  TotPkts  TotBytes  \\\n",
       "221183     ->  192.168.88.148  2869         S_   0.0   NaN        3       186   \n",
       "488879     ->     65.55.56.40   123        INT   0.0   NaN        1        90   \n",
       "108816     ->  195.113.232.90    80   SRPA_SPA   0.0   0.0        8      1687   \n",
       "2935       ->  195.113.232.73    80   SPA_FSPA   0.0   0.0       14      5498   \n",
       "39074      ->  91.212.135.158  5678  FSPA_FSPA   0.0   0.0     1417   1255401   \n",
       "\n",
       "        SrcBytes                                            Label  \n",
       "221183       186                 flow=From-Botnet-V47-TCP-Attempt  \n",
       "488879        90                 flow=From-Botnet-V47-UDP-Attempt  \n",
       "108816       500  flow=From-Botnet-V47-TCP-Established-HTTP-Ad-62  \n",
       "2935         531   flow=From-Botnet-V47-TCP-Established-HTTP-Ad-4  \n",
       "39074      32823      flow=From-Botnet-V47-TCP-CC73-Not-Encrypted  "
      ]
     },
     "execution_count": 78,
     "metadata": {},
     "output_type": "execute_result"
    }
   ],
   "source": [
    "print(df_botnet6.shape)\n",
    "df_botnet6.head()"
   ]
  },
  {
   "cell_type": "code",
   "execution_count": 79,
   "metadata": {},
   "outputs": [
    {
     "name": "stdout",
     "output_type": "stream",
     "text": [
      "(554289, 15)\n"
     ]
    },
    {
     "data": {
      "text/html": [
       "<div>\n",
       "<style scoped>\n",
       "    .dataframe tbody tr th:only-of-type {\n",
       "        vertical-align: middle;\n",
       "    }\n",
       "\n",
       "    .dataframe tbody tr th {\n",
       "        vertical-align: top;\n",
       "    }\n",
       "\n",
       "    .dataframe thead th {\n",
       "        text-align: right;\n",
       "    }\n",
       "</style>\n",
       "<table border=\"1\" class=\"dataframe\">\n",
       "  <thead>\n",
       "    <tr style=\"text-align: right;\">\n",
       "      <th></th>\n",
       "      <th>StartTime</th>\n",
       "      <th>Dur</th>\n",
       "      <th>Proto</th>\n",
       "      <th>SrcAddr</th>\n",
       "      <th>Sport</th>\n",
       "      <th>Dir</th>\n",
       "      <th>DstAddr</th>\n",
       "      <th>Dport</th>\n",
       "      <th>State</th>\n",
       "      <th>sTos</th>\n",
       "      <th>dTos</th>\n",
       "      <th>TotPkts</th>\n",
       "      <th>TotBytes</th>\n",
       "      <th>SrcBytes</th>\n",
       "      <th>Label</th>\n",
       "    </tr>\n",
       "  </thead>\n",
       "  <tbody>\n",
       "    <tr>\n",
       "      <th>3072</th>\n",
       "      <td>2011-08-16 10:02:10.438779</td>\n",
       "      <td>3583.526611</td>\n",
       "      <td>udp</td>\n",
       "      <td>147.32.86.96</td>\n",
       "      <td>56432</td>\n",
       "      <td>&lt;-&gt;</td>\n",
       "      <td>82.208.56.89</td>\n",
       "      <td>123</td>\n",
       "      <td>CON</td>\n",
       "      <td>0.0</td>\n",
       "      <td>0.0</td>\n",
       "      <td>226</td>\n",
       "      <td>20340</td>\n",
       "      <td>10170</td>\n",
       "      <td>flow=To-Normal-V47-UDP-NTP-server</td>\n",
       "    </tr>\n",
       "    <tr>\n",
       "      <th>8349</th>\n",
       "      <td>2011-08-16 10:03:03.354191</td>\n",
       "      <td>3415.070312</td>\n",
       "      <td>udp</td>\n",
       "      <td>147.32.84.13</td>\n",
       "      <td>57826</td>\n",
       "      <td>&lt;-&gt;</td>\n",
       "      <td>82.208.56.89</td>\n",
       "      <td>123</td>\n",
       "      <td>CON</td>\n",
       "      <td>0.0</td>\n",
       "      <td>0.0</td>\n",
       "      <td>78</td>\n",
       "      <td>7020</td>\n",
       "      <td>3510</td>\n",
       "      <td>flow=To-Normal-V47-UDP-NTP-server</td>\n",
       "    </tr>\n",
       "    <tr>\n",
       "      <th>13496</th>\n",
       "      <td>2011-08-16 10:04:02.535378</td>\n",
       "      <td>3508.265381</td>\n",
       "      <td>udp</td>\n",
       "      <td>147.32.84.15</td>\n",
       "      <td>32856</td>\n",
       "      <td>&lt;-&gt;</td>\n",
       "      <td>82.208.56.89</td>\n",
       "      <td>123</td>\n",
       "      <td>CON</td>\n",
       "      <td>0.0</td>\n",
       "      <td>0.0</td>\n",
       "      <td>24</td>\n",
       "      <td>2160</td>\n",
       "      <td>1080</td>\n",
       "      <td>flow=To-Normal-V47-UDP-NTP-server</td>\n",
       "    </tr>\n",
       "    <tr>\n",
       "      <th>15608</th>\n",
       "      <td>2011-08-16 10:04:30.724439</td>\n",
       "      <td>3513.515381</td>\n",
       "      <td>udp</td>\n",
       "      <td>147.32.84.8</td>\n",
       "      <td>57389</td>\n",
       "      <td>&lt;-&gt;</td>\n",
       "      <td>82.208.56.89</td>\n",
       "      <td>123</td>\n",
       "      <td>CON</td>\n",
       "      <td>0.0</td>\n",
       "      <td>0.0</td>\n",
       "      <td>42</td>\n",
       "      <td>3780</td>\n",
       "      <td>1890</td>\n",
       "      <td>flow=To-Normal-V47-UDP-NTP-server</td>\n",
       "    </tr>\n",
       "    <tr>\n",
       "      <th>22714</th>\n",
       "      <td>2011-08-16 10:06:07.973361</td>\n",
       "      <td>3426.579346</td>\n",
       "      <td>udp</td>\n",
       "      <td>147.32.84.25</td>\n",
       "      <td>40996</td>\n",
       "      <td>&lt;-&gt;</td>\n",
       "      <td>82.208.56.89</td>\n",
       "      <td>123</td>\n",
       "      <td>CON</td>\n",
       "      <td>0.0</td>\n",
       "      <td>0.0</td>\n",
       "      <td>76</td>\n",
       "      <td>6840</td>\n",
       "      <td>3420</td>\n",
       "      <td>flow=To-Normal-V47-UDP-NTP-server</td>\n",
       "    </tr>\n",
       "  </tbody>\n",
       "</table>\n",
       "</div>"
      ],
      "text/plain": [
       "                       StartTime          Dur Proto       SrcAddr  Sport  \\\n",
       "3072  2011-08-16 10:02:10.438779  3583.526611   udp  147.32.86.96  56432   \n",
       "8349  2011-08-16 10:03:03.354191  3415.070312   udp  147.32.84.13  57826   \n",
       "13496 2011-08-16 10:04:02.535378  3508.265381   udp  147.32.84.15  32856   \n",
       "15608 2011-08-16 10:04:30.724439  3513.515381   udp   147.32.84.8  57389   \n",
       "22714 2011-08-16 10:06:07.973361  3426.579346   udp  147.32.84.25  40996   \n",
       "\n",
       "         Dir       DstAddr Dport State  sTos  dTos  TotPkts  TotBytes  \\\n",
       "3072     <->  82.208.56.89   123   CON   0.0   0.0      226     20340   \n",
       "8349     <->  82.208.56.89   123   CON   0.0   0.0       78      7020   \n",
       "13496    <->  82.208.56.89   123   CON   0.0   0.0       24      2160   \n",
       "15608    <->  82.208.56.89   123   CON   0.0   0.0       42      3780   \n",
       "22714    <->  82.208.56.89   123   CON   0.0   0.0       76      6840   \n",
       "\n",
       "       SrcBytes                              Label  \n",
       "3072      10170  flow=To-Normal-V47-UDP-NTP-server  \n",
       "8349       3510  flow=To-Normal-V47-UDP-NTP-server  \n",
       "13496      1080  flow=To-Normal-V47-UDP-NTP-server  \n",
       "15608      1890  flow=To-Normal-V47-UDP-NTP-server  \n",
       "22714      3420  flow=To-Normal-V47-UDP-NTP-server  "
      ]
     },
     "execution_count": 79,
     "metadata": {},
     "output_type": "execute_result"
    }
   ],
   "source": [
    "print(df_normal_background6.shape)\n",
    "df_normal_background6.head()"
   ]
  },
  {
   "cell_type": "markdown",
   "metadata": {},
   "source": [
    "Répartition temporelle du trafic du botnet dans le dataframe "
   ]
  },
  {
   "cell_type": "code",
   "execution_count": 80,
   "metadata": {},
   "outputs": [
    {
     "name": "stdout",
     "output_type": "stream",
     "text": [
      "2011-08-16 10:02:08.703460 2011-08-16 12:10:15.643807 0 days 02:08:06.940347\n"
     ]
    }
   ],
   "source": [
    "max, min, dur = get_start_time_values(df_botnet6)\n",
    "print(min, max, dur)"
   ]
  },
  {
   "cell_type": "markdown",
   "metadata": {},
   "source": [
    "Séparation du traffic pour le dataset 8 "
   ]
  },
  {
   "cell_type": "code",
   "execution_count": 81,
   "metadata": {},
   "outputs": [],
   "source": [
    "df_botnet8, df_normal_background8 = separate_botnet(df8)"
   ]
  },
  {
   "cell_type": "code",
   "execution_count": 82,
   "metadata": {},
   "outputs": [
    {
     "name": "stdout",
     "output_type": "stream",
     "text": [
      "(6127, 15)\n"
     ]
    },
    {
     "data": {
      "text/html": [
       "<div>\n",
       "<style scoped>\n",
       "    .dataframe tbody tr th:only-of-type {\n",
       "        vertical-align: middle;\n",
       "    }\n",
       "\n",
       "    .dataframe tbody tr th {\n",
       "        vertical-align: top;\n",
       "    }\n",
       "\n",
       "    .dataframe thead th {\n",
       "        text-align: right;\n",
       "    }\n",
       "</style>\n",
       "<table border=\"1\" class=\"dataframe\">\n",
       "  <thead>\n",
       "    <tr style=\"text-align: right;\">\n",
       "      <th></th>\n",
       "      <th>StartTime</th>\n",
       "      <th>Dur</th>\n",
       "      <th>Proto</th>\n",
       "      <th>SrcAddr</th>\n",
       "      <th>Sport</th>\n",
       "      <th>Dir</th>\n",
       "      <th>DstAddr</th>\n",
       "      <th>Dport</th>\n",
       "      <th>State</th>\n",
       "      <th>sTos</th>\n",
       "      <th>dTos</th>\n",
       "      <th>TotPkts</th>\n",
       "      <th>TotBytes</th>\n",
       "      <th>SrcBytes</th>\n",
       "      <th>Label</th>\n",
       "    </tr>\n",
       "  </thead>\n",
       "  <tbody>\n",
       "    <tr>\n",
       "      <th>16008</th>\n",
       "      <td>2011-08-16 14:21:14.553769</td>\n",
       "      <td>8.978836</td>\n",
       "      <td>tcp</td>\n",
       "      <td>147.32.84.165</td>\n",
       "      <td>1038</td>\n",
       "      <td>-&gt;</td>\n",
       "      <td>169.254.197.200</td>\n",
       "      <td>2869</td>\n",
       "      <td>S_</td>\n",
       "      <td>0.0</td>\n",
       "      <td>NaN</td>\n",
       "      <td>3</td>\n",
       "      <td>186</td>\n",
       "      <td>186</td>\n",
       "      <td>flow=From-Botnet-V49-TCP-Attempt</td>\n",
       "    </tr>\n",
       "    <tr>\n",
       "      <th>17142</th>\n",
       "      <td>2011-08-16 14:21:24.845099</td>\n",
       "      <td>9.001941</td>\n",
       "      <td>tcp</td>\n",
       "      <td>147.32.84.165</td>\n",
       "      <td>1039</td>\n",
       "      <td>-&gt;</td>\n",
       "      <td>192.168.88.148</td>\n",
       "      <td>2869</td>\n",
       "      <td>S_</td>\n",
       "      <td>0.0</td>\n",
       "      <td>NaN</td>\n",
       "      <td>3</td>\n",
       "      <td>186</td>\n",
       "      <td>186</td>\n",
       "      <td>flow=From-Botnet-V49-TCP-Attempt</td>\n",
       "    </tr>\n",
       "    <tr>\n",
       "      <th>62008</th>\n",
       "      <td>2011-08-16 14:29:21.421960</td>\n",
       "      <td>6.008705</td>\n",
       "      <td>tcp</td>\n",
       "      <td>147.32.84.165</td>\n",
       "      <td>1066</td>\n",
       "      <td>-&gt;</td>\n",
       "      <td>202.96.209.5</td>\n",
       "      <td>80</td>\n",
       "      <td>S_</td>\n",
       "      <td>0.0</td>\n",
       "      <td>0.0</td>\n",
       "      <td>2</td>\n",
       "      <td>124</td>\n",
       "      <td>124</td>\n",
       "      <td>flow=From-Botnet-V49-TCP-Attempt</td>\n",
       "    </tr>\n",
       "    <tr>\n",
       "      <th>154513</th>\n",
       "      <td>2011-08-16 14:47:41.667027</td>\n",
       "      <td>0.000000</td>\n",
       "      <td>tcp</td>\n",
       "      <td>147.32.84.165</td>\n",
       "      <td>1105</td>\n",
       "      <td>-&gt;</td>\n",
       "      <td>192.168.0.1</td>\n",
       "      <td>135</td>\n",
       "      <td>S_</td>\n",
       "      <td>0.0</td>\n",
       "      <td>NaN</td>\n",
       "      <td>1</td>\n",
       "      <td>62</td>\n",
       "      <td>62</td>\n",
       "      <td>flow=From-Botnet-V49-TCP-Attempt</td>\n",
       "    </tr>\n",
       "    <tr>\n",
       "      <th>154515</th>\n",
       "      <td>2011-08-16 14:47:41.678422</td>\n",
       "      <td>0.000000</td>\n",
       "      <td>tcp</td>\n",
       "      <td>147.32.84.165</td>\n",
       "      <td>1106</td>\n",
       "      <td>-&gt;</td>\n",
       "      <td>147.32.79.1</td>\n",
       "      <td>135</td>\n",
       "      <td>S_</td>\n",
       "      <td>0.0</td>\n",
       "      <td>NaN</td>\n",
       "      <td>1</td>\n",
       "      <td>62</td>\n",
       "      <td>62</td>\n",
       "      <td>flow=From-Botnet-V49-TCP-Attempt</td>\n",
       "    </tr>\n",
       "  </tbody>\n",
       "</table>\n",
       "</div>"
      ],
      "text/plain": [
       "                        StartTime       Dur Proto        SrcAddr Sport    Dir  \\\n",
       "16008  2011-08-16 14:21:14.553769  8.978836   tcp  147.32.84.165  1038     ->   \n",
       "17142  2011-08-16 14:21:24.845099  9.001941   tcp  147.32.84.165  1039     ->   \n",
       "62008  2011-08-16 14:29:21.421960  6.008705   tcp  147.32.84.165  1066     ->   \n",
       "154513 2011-08-16 14:47:41.667027  0.000000   tcp  147.32.84.165  1105     ->   \n",
       "154515 2011-08-16 14:47:41.678422  0.000000   tcp  147.32.84.165  1106     ->   \n",
       "\n",
       "                DstAddr Dport State  sTos  dTos  TotPkts  TotBytes  SrcBytes  \\\n",
       "16008   169.254.197.200  2869    S_   0.0   NaN        3       186       186   \n",
       "17142    192.168.88.148  2869    S_   0.0   NaN        3       186       186   \n",
       "62008      202.96.209.5    80    S_   0.0   0.0        2       124       124   \n",
       "154513      192.168.0.1   135    S_   0.0   NaN        1        62        62   \n",
       "154515      147.32.79.1   135    S_   0.0   NaN        1        62        62   \n",
       "\n",
       "                                   Label  \n",
       "16008   flow=From-Botnet-V49-TCP-Attempt  \n",
       "17142   flow=From-Botnet-V49-TCP-Attempt  \n",
       "62008   flow=From-Botnet-V49-TCP-Attempt  \n",
       "154513  flow=From-Botnet-V49-TCP-Attempt  \n",
       "154515  flow=From-Botnet-V49-TCP-Attempt  "
      ]
     },
     "execution_count": 82,
     "metadata": {},
     "output_type": "execute_result"
    }
   ],
   "source": [
    "print(df_botnet8.shape)\n",
    "df_botnet8.head()"
   ]
  },
  {
   "cell_type": "code",
   "execution_count": 83,
   "metadata": {},
   "outputs": [
    {
     "name": "stdout",
     "output_type": "stream",
     "text": [
      "(2948103, 15)\n"
     ]
    },
    {
     "data": {
      "text/html": [
       "<div>\n",
       "<style scoped>\n",
       "    .dataframe tbody tr th:only-of-type {\n",
       "        vertical-align: middle;\n",
       "    }\n",
       "\n",
       "    .dataframe tbody tr th {\n",
       "        vertical-align: top;\n",
       "    }\n",
       "\n",
       "    .dataframe thead th {\n",
       "        text-align: right;\n",
       "    }\n",
       "</style>\n",
       "<table border=\"1\" class=\"dataframe\">\n",
       "  <thead>\n",
       "    <tr style=\"text-align: right;\">\n",
       "      <th></th>\n",
       "      <th>StartTime</th>\n",
       "      <th>Dur</th>\n",
       "      <th>Proto</th>\n",
       "      <th>SrcAddr</th>\n",
       "      <th>Sport</th>\n",
       "      <th>Dir</th>\n",
       "      <th>DstAddr</th>\n",
       "      <th>Dport</th>\n",
       "      <th>State</th>\n",
       "      <th>sTos</th>\n",
       "      <th>dTos</th>\n",
       "      <th>TotPkts</th>\n",
       "      <th>TotBytes</th>\n",
       "      <th>SrcBytes</th>\n",
       "      <th>Label</th>\n",
       "    </tr>\n",
       "  </thead>\n",
       "  <tbody>\n",
       "    <tr>\n",
       "      <th>341</th>\n",
       "      <td>2011-08-16 14:18:56.645840</td>\n",
       "      <td>0.000328</td>\n",
       "      <td>udp</td>\n",
       "      <td>147.32.84.170</td>\n",
       "      <td>39364</td>\n",
       "      <td>&lt;-&gt;</td>\n",
       "      <td>147.32.80.9</td>\n",
       "      <td>53</td>\n",
       "      <td>CON</td>\n",
       "      <td>0.0</td>\n",
       "      <td>0.0</td>\n",
       "      <td>2</td>\n",
       "      <td>400</td>\n",
       "      <td>74</td>\n",
       "      <td>flow=From-Normal-V49-Stribrek</td>\n",
       "    </tr>\n",
       "    <tr>\n",
       "      <th>342</th>\n",
       "      <td>2011-08-16 14:18:56.646714</td>\n",
       "      <td>0.000410</td>\n",
       "      <td>udp</td>\n",
       "      <td>147.32.84.170</td>\n",
       "      <td>35349</td>\n",
       "      <td>&lt;-&gt;</td>\n",
       "      <td>147.32.80.9</td>\n",
       "      <td>53</td>\n",
       "      <td>CON</td>\n",
       "      <td>0.0</td>\n",
       "      <td>0.0</td>\n",
       "      <td>2</td>\n",
       "      <td>400</td>\n",
       "      <td>74</td>\n",
       "      <td>flow=From-Normal-V49-Stribrek</td>\n",
       "    </tr>\n",
       "    <tr>\n",
       "      <th>343</th>\n",
       "      <td>2011-08-16 14:18:56.647854</td>\n",
       "      <td>0.017853</td>\n",
       "      <td>tcp</td>\n",
       "      <td>147.32.84.170</td>\n",
       "      <td>49026</td>\n",
       "      <td>-&gt;</td>\n",
       "      <td>209.85.148.106</td>\n",
       "      <td>80</td>\n",
       "      <td>FSA_FSA</td>\n",
       "      <td>0.0</td>\n",
       "      <td>0.0</td>\n",
       "      <td>7</td>\n",
       "      <td>478</td>\n",
       "      <td>272</td>\n",
       "      <td>flow=From-Normal-V49-Stribrek</td>\n",
       "    </tr>\n",
       "    <tr>\n",
       "      <th>665</th>\n",
       "      <td>2011-08-16 14:18:59.071166</td>\n",
       "      <td>205.010361</td>\n",
       "      <td>tcp</td>\n",
       "      <td>147.32.84.170</td>\n",
       "      <td>47582</td>\n",
       "      <td>&lt;?&gt;</td>\n",
       "      <td>209.85.148.106</td>\n",
       "      <td>443</td>\n",
       "      <td>RA_FPA</td>\n",
       "      <td>0.0</td>\n",
       "      <td>0.0</td>\n",
       "      <td>17</td>\n",
       "      <td>1220</td>\n",
       "      <td>594</td>\n",
       "      <td>flow=From-Normal-V49-Stribrek</td>\n",
       "    </tr>\n",
       "    <tr>\n",
       "      <th>666</th>\n",
       "      <td>2011-08-16 14:18:59.071174</td>\n",
       "      <td>195.009506</td>\n",
       "      <td>tcp</td>\n",
       "      <td>147.32.84.170</td>\n",
       "      <td>47583</td>\n",
       "      <td>&lt;?&gt;</td>\n",
       "      <td>209.85.148.106</td>\n",
       "      <td>443</td>\n",
       "      <td>RA_FPA</td>\n",
       "      <td>0.0</td>\n",
       "      <td>0.0</td>\n",
       "      <td>16</td>\n",
       "      <td>1154</td>\n",
       "      <td>528</td>\n",
       "      <td>flow=From-Normal-V49-Stribrek</td>\n",
       "    </tr>\n",
       "  </tbody>\n",
       "</table>\n",
       "</div>"
      ],
      "text/plain": [
       "                     StartTime         Dur Proto        SrcAddr  Sport    Dir  \\\n",
       "341 2011-08-16 14:18:56.645840    0.000328   udp  147.32.84.170  39364    <->   \n",
       "342 2011-08-16 14:18:56.646714    0.000410   udp  147.32.84.170  35349    <->   \n",
       "343 2011-08-16 14:18:56.647854    0.017853   tcp  147.32.84.170  49026     ->   \n",
       "665 2011-08-16 14:18:59.071166  205.010361   tcp  147.32.84.170  47582    <?>   \n",
       "666 2011-08-16 14:18:59.071174  195.009506   tcp  147.32.84.170  47583    <?>   \n",
       "\n",
       "            DstAddr Dport    State  sTos  dTos  TotPkts  TotBytes  SrcBytes  \\\n",
       "341     147.32.80.9    53      CON   0.0   0.0        2       400        74   \n",
       "342     147.32.80.9    53      CON   0.0   0.0        2       400        74   \n",
       "343  209.85.148.106    80  FSA_FSA   0.0   0.0        7       478       272   \n",
       "665  209.85.148.106   443   RA_FPA   0.0   0.0       17      1220       594   \n",
       "666  209.85.148.106   443   RA_FPA   0.0   0.0       16      1154       528   \n",
       "\n",
       "                             Label  \n",
       "341  flow=From-Normal-V49-Stribrek  \n",
       "342  flow=From-Normal-V49-Stribrek  \n",
       "343  flow=From-Normal-V49-Stribrek  \n",
       "665  flow=From-Normal-V49-Stribrek  \n",
       "666  flow=From-Normal-V49-Stribrek  "
      ]
     },
     "execution_count": 83,
     "metadata": {},
     "output_type": "execute_result"
    }
   ],
   "source": [
    "print(df_normal_background8.shape)\n",
    "df_normal_background8.head()"
   ]
  },
  {
   "cell_type": "markdown",
   "metadata": {},
   "source": [
    "Répartition temporelle du trafic du botnet dans le dataframe "
   ]
  },
  {
   "cell_type": "code",
   "execution_count": 84,
   "metadata": {},
   "outputs": [
    {
     "name": "stdout",
     "output_type": "stream",
     "text": [
      "2011-08-16 14:19:01.438016 2011-08-17 09:46:41.947106 0 days 19:27:40.509090\n"
     ]
    }
   ],
   "source": [
    "max, min, dur = get_start_time_values(df_botnet8)\n",
    "print(min, max, dur)"
   ]
  },
  {
   "cell_type": "markdown",
   "metadata": {},
   "source": [
    "## Edition, formattage et sauvegarde des datasets pour l'exploitation"
   ]
  },
  {
   "cell_type": "markdown",
   "metadata": {},
   "source": [
    "Fonction pour calculer le temps de fin 'EndTime' pour chaque flow "
   ]
  },
  {
   "cell_type": "code",
   "execution_count": 85,
   "metadata": {},
   "outputs": [],
   "source": [
    "def compute_end_time(row):\n",
    "    row[\"EndTime\"] = datetime.datetime.utcfromtimestamp(row[\"StartTime\"].timestamp()+row[\"Dur\"])\n",
    "    return row"
   ]
  },
  {
   "cell_type": "markdown",
   "metadata": {},
   "source": [
    "Calcul et ajout de la colonne \"EndTime\" (Temps de fin du flux) sur le dataset 6"
   ]
  },
  {
   "cell_type": "code",
   "execution_count": null,
   "metadata": {},
   "outputs": [],
   "source": [
    "df6_test = df6.apply(compute_end_time, axis=1).reset_index(drop = True)"
   ]
  },
  {
   "cell_type": "markdown",
   "metadata": {},
   "source": [
    "Calcul et ajout de la colonne \"EndTime\" (Temps de fin du flux) sur le dataset 8"
   ]
  },
  {
   "cell_type": "code",
   "execution_count": null,
   "metadata": {},
   "outputs": [],
   "source": [
    "df8_train = df8.apply(compute_end_time, axis=1).reset_index(drop = True)"
   ]
  },
  {
   "cell_type": "markdown",
   "metadata": {},
   "source": [
    "Sauvegarde du dataset 6 modifier avec la colonne \"EndTime\""
   ]
  },
  {
   "cell_type": "code",
   "execution_count": null,
   "metadata": {},
   "outputs": [],
   "source": [
    "df6_test.to_csv(\"..\\Data\\Dataset_prepared\\dataset6_test.csv\", index=False)"
   ]
  },
  {
   "cell_type": "markdown",
   "metadata": {},
   "source": [
    "Sauvegarde du dataset 8 modifier avec la colonne \"EndTime\""
   ]
  },
  {
   "cell_type": "code",
   "execution_count": null,
   "metadata": {},
   "outputs": [],
   "source": [
    "df8_train.to_csv(\"..\\Data\\Dataset_prepared\\dataset8_train.csv\", index=False)"
   ]
  },
  {
   "cell_type": "markdown",
   "metadata": {},
   "source": [
    "## Ouverture des datasets sauvegardés"
   ]
  },
  {
   "cell_type": "code",
   "execution_count": 87,
   "metadata": {},
   "outputs": [
    {
     "data": {
      "text/html": [
       "<div>\n",
       "<style scoped>\n",
       "    .dataframe tbody tr th:only-of-type {\n",
       "        vertical-align: middle;\n",
       "    }\n",
       "\n",
       "    .dataframe tbody tr th {\n",
       "        vertical-align: top;\n",
       "    }\n",
       "\n",
       "    .dataframe thead th {\n",
       "        text-align: right;\n",
       "    }\n",
       "</style>\n",
       "<table border=\"1\" class=\"dataframe\">\n",
       "  <thead>\n",
       "    <tr style=\"text-align: right;\">\n",
       "      <th></th>\n",
       "      <th>StartTime</th>\n",
       "      <th>Dur</th>\n",
       "      <th>Proto</th>\n",
       "      <th>SrcAddr</th>\n",
       "      <th>Sport</th>\n",
       "      <th>Dir</th>\n",
       "      <th>DstAddr</th>\n",
       "      <th>Dport</th>\n",
       "      <th>State</th>\n",
       "      <th>sTos</th>\n",
       "      <th>dTos</th>\n",
       "      <th>TotPkts</th>\n",
       "      <th>TotBytes</th>\n",
       "      <th>SrcBytes</th>\n",
       "      <th>Label</th>\n",
       "      <th>EndTime</th>\n",
       "    </tr>\n",
       "  </thead>\n",
       "  <tbody>\n",
       "    <tr>\n",
       "      <th>0</th>\n",
       "      <td>2011-08-16 14:23:17.316620</td>\n",
       "      <td>0.983988</td>\n",
       "      <td>tcp</td>\n",
       "      <td>147.32.3.51</td>\n",
       "      <td>4519</td>\n",
       "      <td>-&gt;</td>\n",
       "      <td>147.32.84.46</td>\n",
       "      <td>10010</td>\n",
       "      <td>S_RA</td>\n",
       "      <td>0.0</td>\n",
       "      <td>0.0</td>\n",
       "      <td>4</td>\n",
       "      <td>244</td>\n",
       "      <td>124</td>\n",
       "      <td>flow=Background-TCP-Attempt</td>\n",
       "      <td>2011-08-16 14:23:18.300608</td>\n",
       "    </tr>\n",
       "    <tr>\n",
       "      <th>1</th>\n",
       "      <td>2011-08-16 14:25:13.585599</td>\n",
       "      <td>0.909895</td>\n",
       "      <td>tcp</td>\n",
       "      <td>147.32.84.59</td>\n",
       "      <td>61591</td>\n",
       "      <td>-&gt;</td>\n",
       "      <td>199.59.149.200</td>\n",
       "      <td>443</td>\n",
       "      <td>SR_A</td>\n",
       "      <td>0.0</td>\n",
       "      <td>0.0</td>\n",
       "      <td>3</td>\n",
       "      <td>204</td>\n",
       "      <td>138</td>\n",
       "      <td>flow=Background-Established-cmpgw-CVUT</td>\n",
       "      <td>2011-08-16 14:25:14.495494</td>\n",
       "    </tr>\n",
       "    <tr>\n",
       "      <th>2</th>\n",
       "      <td>2011-08-16 14:26:27.614070</td>\n",
       "      <td>3.067423</td>\n",
       "      <td>tcp</td>\n",
       "      <td>217.129.160.86</td>\n",
       "      <td>2228</td>\n",
       "      <td>-&gt;</td>\n",
       "      <td>147.32.84.229</td>\n",
       "      <td>13363</td>\n",
       "      <td>SR_SA</td>\n",
       "      <td>0.0</td>\n",
       "      <td>0.0</td>\n",
       "      <td>3</td>\n",
       "      <td>184</td>\n",
       "      <td>122</td>\n",
       "      <td>flow=Background-TCP-Established</td>\n",
       "      <td>2011-08-16 14:26:30.681493</td>\n",
       "    </tr>\n",
       "    <tr>\n",
       "      <th>3</th>\n",
       "      <td>2011-08-16 14:26:29.245037</td>\n",
       "      <td>2.856905</td>\n",
       "      <td>tcp</td>\n",
       "      <td>217.129.160.86</td>\n",
       "      <td>2231</td>\n",
       "      <td>-&gt;</td>\n",
       "      <td>147.32.84.229</td>\n",
       "      <td>443</td>\n",
       "      <td>SR_SA</td>\n",
       "      <td>0.0</td>\n",
       "      <td>0.0</td>\n",
       "      <td>3</td>\n",
       "      <td>184</td>\n",
       "      <td>122</td>\n",
       "      <td>flow=Background-TCP-Established</td>\n",
       "      <td>2011-08-16 14:26:32.101942</td>\n",
       "    </tr>\n",
       "    <tr>\n",
       "      <th>4</th>\n",
       "      <td>2011-08-16 14:26:30.868242</td>\n",
       "      <td>2.985940</td>\n",
       "      <td>tcp</td>\n",
       "      <td>217.129.160.86</td>\n",
       "      <td>2234</td>\n",
       "      <td>-&gt;</td>\n",
       "      <td>147.32.84.229</td>\n",
       "      <td>80</td>\n",
       "      <td>SR_SA</td>\n",
       "      <td>0.0</td>\n",
       "      <td>0.0</td>\n",
       "      <td>3</td>\n",
       "      <td>184</td>\n",
       "      <td>122</td>\n",
       "      <td>flow=Background-TCP-Established</td>\n",
       "      <td>2011-08-16 14:26:33.854182</td>\n",
       "    </tr>\n",
       "  </tbody>\n",
       "</table>\n",
       "</div>"
      ],
      "text/plain": [
       "                    StartTime       Dur Proto         SrcAddr  Sport    Dir  \\\n",
       "0  2011-08-16 14:23:17.316620  0.983988   tcp     147.32.3.51   4519     ->   \n",
       "1  2011-08-16 14:25:13.585599  0.909895   tcp    147.32.84.59  61591     ->   \n",
       "2  2011-08-16 14:26:27.614070  3.067423   tcp  217.129.160.86   2228     ->   \n",
       "3  2011-08-16 14:26:29.245037  2.856905   tcp  217.129.160.86   2231     ->   \n",
       "4  2011-08-16 14:26:30.868242  2.985940   tcp  217.129.160.86   2234     ->   \n",
       "\n",
       "          DstAddr  Dport  State  sTos  dTos  TotPkts  TotBytes  SrcBytes  \\\n",
       "0    147.32.84.46  10010   S_RA   0.0   0.0        4       244       124   \n",
       "1  199.59.149.200    443   SR_A   0.0   0.0        3       204       138   \n",
       "2   147.32.84.229  13363  SR_SA   0.0   0.0        3       184       122   \n",
       "3   147.32.84.229    443  SR_SA   0.0   0.0        3       184       122   \n",
       "4   147.32.84.229     80  SR_SA   0.0   0.0        3       184       122   \n",
       "\n",
       "                                    Label                     EndTime  \n",
       "0             flow=Background-TCP-Attempt  2011-08-16 14:23:18.300608  \n",
       "1  flow=Background-Established-cmpgw-CVUT  2011-08-16 14:25:14.495494  \n",
       "2         flow=Background-TCP-Established  2011-08-16 14:26:30.681493  \n",
       "3         flow=Background-TCP-Established  2011-08-16 14:26:32.101942  \n",
       "4         flow=Background-TCP-Established  2011-08-16 14:26:33.854182  "
      ]
     },
     "execution_count": 87,
     "metadata": {},
     "output_type": "execute_result"
    }
   ],
   "source": [
    "df8_train = pd.read_csv(\"..\\Data\\Dataset_prepared\\dataset8_train.csv\")\n",
    "df8_train.head()"
   ]
  },
  {
   "cell_type": "code",
   "execution_count": 88,
   "metadata": {},
   "outputs": [
    {
     "data": {
      "text/html": [
       "<div>\n",
       "<style scoped>\n",
       "    .dataframe tbody tr th:only-of-type {\n",
       "        vertical-align: middle;\n",
       "    }\n",
       "\n",
       "    .dataframe tbody tr th {\n",
       "        vertical-align: top;\n",
       "    }\n",
       "\n",
       "    .dataframe thead th {\n",
       "        text-align: right;\n",
       "    }\n",
       "</style>\n",
       "<table border=\"1\" class=\"dataframe\">\n",
       "  <thead>\n",
       "    <tr style=\"text-align: right;\">\n",
       "      <th></th>\n",
       "      <th>StartTime</th>\n",
       "      <th>Dur</th>\n",
       "      <th>Proto</th>\n",
       "      <th>SrcAddr</th>\n",
       "      <th>Sport</th>\n",
       "      <th>Dir</th>\n",
       "      <th>DstAddr</th>\n",
       "      <th>Dport</th>\n",
       "      <th>State</th>\n",
       "      <th>sTos</th>\n",
       "      <th>dTos</th>\n",
       "      <th>TotPkts</th>\n",
       "      <th>TotBytes</th>\n",
       "      <th>SrcBytes</th>\n",
       "      <th>Label</th>\n",
       "      <th>EndTime</th>\n",
       "    </tr>\n",
       "  </thead>\n",
       "  <tbody>\n",
       "    <tr>\n",
       "      <th>0</th>\n",
       "      <td>2011-08-16 10:04:03.820235</td>\n",
       "      <td>0.286751</td>\n",
       "      <td>tcp</td>\n",
       "      <td>67.210.234.162</td>\n",
       "      <td>3597</td>\n",
       "      <td>-&gt;</td>\n",
       "      <td>147.32.86.98</td>\n",
       "      <td>80</td>\n",
       "      <td>S_RA</td>\n",
       "      <td>0.0</td>\n",
       "      <td>0.0</td>\n",
       "      <td>4</td>\n",
       "      <td>244</td>\n",
       "      <td>124</td>\n",
       "      <td>flow=Background-TCP-Attempt</td>\n",
       "      <td>2011-08-16 10:04:04.106986</td>\n",
       "    </tr>\n",
       "    <tr>\n",
       "      <th>1</th>\n",
       "      <td>2011-08-16 10:04:04.106986</td>\n",
       "      <td>0.280358</td>\n",
       "      <td>tcp</td>\n",
       "      <td>67.210.234.162</td>\n",
       "      <td>3597</td>\n",
       "      <td>-&gt;</td>\n",
       "      <td>147.32.86.98</td>\n",
       "      <td>80</td>\n",
       "      <td>S_RA</td>\n",
       "      <td>0.0</td>\n",
       "      <td>0.0</td>\n",
       "      <td>4</td>\n",
       "      <td>244</td>\n",
       "      <td>124</td>\n",
       "      <td>flow=Background-TCP-Attempt</td>\n",
       "      <td>2011-08-16 10:04:04.387344</td>\n",
       "    </tr>\n",
       "    <tr>\n",
       "      <th>2</th>\n",
       "      <td>2011-08-16 10:04:04.387344</td>\n",
       "      <td>0.280039</td>\n",
       "      <td>tcp</td>\n",
       "      <td>67.210.234.162</td>\n",
       "      <td>3597</td>\n",
       "      <td>-&gt;</td>\n",
       "      <td>147.32.86.98</td>\n",
       "      <td>80</td>\n",
       "      <td>S_RA</td>\n",
       "      <td>0.0</td>\n",
       "      <td>0.0</td>\n",
       "      <td>4</td>\n",
       "      <td>244</td>\n",
       "      <td>124</td>\n",
       "      <td>flow=Background-TCP-Attempt</td>\n",
       "      <td>2011-08-16 10:04:04.667383</td>\n",
       "    </tr>\n",
       "    <tr>\n",
       "      <th>3</th>\n",
       "      <td>2011-08-16 10:02:54.155092</td>\n",
       "      <td>138.123184</td>\n",
       "      <td>tcp</td>\n",
       "      <td>147.32.84.59</td>\n",
       "      <td>49158</td>\n",
       "      <td>-&gt;</td>\n",
       "      <td>147.32.80.7</td>\n",
       "      <td>80</td>\n",
       "      <td>SRPA_FSPA</td>\n",
       "      <td>0.0</td>\n",
       "      <td>0.0</td>\n",
       "      <td>12</td>\n",
       "      <td>2636</td>\n",
       "      <td>638</td>\n",
       "      <td>flow=Background-Established-cmpgw-CVUT</td>\n",
       "      <td>2011-08-16 10:05:12.278276</td>\n",
       "    </tr>\n",
       "    <tr>\n",
       "      <th>4</th>\n",
       "      <td>2011-08-16 10:07:24.648890</td>\n",
       "      <td>0.306994</td>\n",
       "      <td>tcp</td>\n",
       "      <td>67.210.234.171</td>\n",
       "      <td>3255</td>\n",
       "      <td>-&gt;</td>\n",
       "      <td>147.32.84.142</td>\n",
       "      <td>80</td>\n",
       "      <td>S_RA</td>\n",
       "      <td>0.0</td>\n",
       "      <td>0.0</td>\n",
       "      <td>4</td>\n",
       "      <td>244</td>\n",
       "      <td>124</td>\n",
       "      <td>flow=Background-TCP-Attempt</td>\n",
       "      <td>2011-08-16 10:07:24.955884</td>\n",
       "    </tr>\n",
       "  </tbody>\n",
       "</table>\n",
       "</div>"
      ],
      "text/plain": [
       "                    StartTime         Dur Proto         SrcAddr  Sport    Dir  \\\n",
       "0  2011-08-16 10:04:03.820235    0.286751   tcp  67.210.234.162   3597     ->   \n",
       "1  2011-08-16 10:04:04.106986    0.280358   tcp  67.210.234.162   3597     ->   \n",
       "2  2011-08-16 10:04:04.387344    0.280039   tcp  67.210.234.162   3597     ->   \n",
       "3  2011-08-16 10:02:54.155092  138.123184   tcp    147.32.84.59  49158     ->   \n",
       "4  2011-08-16 10:07:24.648890    0.306994   tcp  67.210.234.171   3255     ->   \n",
       "\n",
       "         DstAddr Dport      State  sTos  dTos  TotPkts  TotBytes  SrcBytes  \\\n",
       "0   147.32.86.98    80       S_RA   0.0   0.0        4       244       124   \n",
       "1   147.32.86.98    80       S_RA   0.0   0.0        4       244       124   \n",
       "2   147.32.86.98    80       S_RA   0.0   0.0        4       244       124   \n",
       "3    147.32.80.7    80  SRPA_FSPA   0.0   0.0       12      2636       638   \n",
       "4  147.32.84.142    80       S_RA   0.0   0.0        4       244       124   \n",
       "\n",
       "                                    Label                     EndTime  \n",
       "0             flow=Background-TCP-Attempt  2011-08-16 10:04:04.106986  \n",
       "1             flow=Background-TCP-Attempt  2011-08-16 10:04:04.387344  \n",
       "2             flow=Background-TCP-Attempt  2011-08-16 10:04:04.667383  \n",
       "3  flow=Background-Established-cmpgw-CVUT  2011-08-16 10:05:12.278276  \n",
       "4             flow=Background-TCP-Attempt  2011-08-16 10:07:24.955884  "
      ]
     },
     "execution_count": 88,
     "metadata": {},
     "output_type": "execute_result"
    }
   ],
   "source": [
    "df6_test = pd.read_csv(\"..\\Data\\Dataset_prepared\\dataset6_test.csv\")\n",
    "df6_test.head()"
   ]
  },
  {
   "cell_type": "markdown",
   "metadata": {},
   "source": [
    "Modifier le format des colonnes \"StartTime\" et \"EndTime\" en datetime"
   ]
  },
  {
   "cell_type": "code",
   "execution_count": 89,
   "metadata": {},
   "outputs": [],
   "source": [
    "def str_to_datetime(df):\n",
    "    df[\"StartTime\"] = pd.to_datetime(df[\"StartTime\"], format='mixed')\n",
    "    df[\"EndTime\"] = pd.to_datetime(df[\"EndTime\"], format='mixed')\n",
    "    return df"
   ]
  },
  {
   "cell_type": "code",
   "execution_count": 90,
   "metadata": {},
   "outputs": [],
   "source": [
    "df8_train = str_to_datetime(df8_train)"
   ]
  },
  {
   "cell_type": "code",
   "execution_count": 91,
   "metadata": {},
   "outputs": [],
   "source": [
    "df6_test = str_to_datetime(df6_test)"
   ]
  },
  {
   "cell_type": "markdown",
   "metadata": {},
   "source": [
    "# Implémentation de l'algorithme TAPS"
   ]
  },
  {
   "cell_type": "code",
   "execution_count": 92,
   "metadata": {},
   "outputs": [],
   "source": [
    "import datetime\n",
    "\n",
    "# Paramètres\n",
    "MU1 = 99 #borne supérieur du likelihood ratio pour considérer une source IP comme un scanner\n",
    "MU0 = 0.01 #borne inférieur du likelihood ratio pour considérer une source IP comme étant bégnine \n",
    "P_Y_0_H_0 = 0.8 #probabilité de Y = 0 sachant H0\n",
    "P_Y_1_H_0 = 0.2 #probabilité de Y = 1 sachant H0\n",
    "P_Y_0_H_1 = 0.2 #probabilité de Y = 0 sachant H1\n",
    "P_Y_1_H_1 = 0.8 #probabilité de Y = 1 sachant H1\n",
    "N = 10 #number of seconds to update likelihood ratio\n",
    "K = 3 #borne inférieure du ratio\n",
    "\n",
    "# T = [[SrcAddr, [list of DstAddr], total of DstAddr, [list of Dport], total of Dport]]\n",
    "def update_T(flow, T):\n",
    "    src_addr_in_T = False\n",
    "    for i, record in enumerate(T):\n",
    "        src_addr = record[0]\n",
    "        list_dst_addr = record[1] \n",
    "        list_dst_port = record[3]\n",
    "        if flow[\"SrcAddr\"] == src_addr:\n",
    "            src_addr_in_T = True\n",
    "            update_record = record\n",
    "            if flow[\"DstAddr\"] not in list_dst_addr:\n",
    "                update_record[1].append(flow[\"DstAddr\"])\n",
    "                update_record[2] = update_record[2] + 1\n",
    "            if flow[\"Dport\"] not in list_dst_port:\n",
    "                update_record[3].append(flow[\"Dport\"])\n",
    "                update_record[4] = update_record[4] + 1\n",
    "            T[i] = update_record\n",
    "    \n",
    "    if not src_addr_in_T:\n",
    "        T.append([flow[\"SrcAddr\"], [flow[\"DstAddr\"]], 1, [flow[\"Dport\"]], 1])\n",
    "    \n",
    "    return T\n",
    "\n",
    "def update_scan(S, scan):\n",
    "    S_values_to_del = []\n",
    "    for i, value in enumerate(S):\n",
    "        srcIP = value[0]\n",
    "        likelihood_ratio = value[1]\n",
    "        if likelihood_ratio > MU1:\n",
    "            if srcIP not in scan:\n",
    "                scan.append(srcIP)\n",
    "            S_values_to_del.append(value)\n",
    "        elif likelihood_ratio < MU0:\n",
    "            S_values_to_del.append(value)\n",
    "    \n",
    "    for value_to_del in S_values_to_del:\n",
    "        S.remove(value_to_del)\n",
    "    return S, scan\n",
    "\n",
    "# S = [[SrcAddr,Likelihood ratio]]\n",
    "def update_S(T, S, scan, K = K):\n",
    "    # Update ST\n",
    "    for record in T:\n",
    "        is_in_S = False\n",
    "        srcIP = record[0]\n",
    "        destIP_to_port_ratio = record[2]/record[4]\n",
    "        destport_to_ip_ratio = record[4]/record[2]\n",
    "        for i, value in enumerate(S):\n",
    "            if value[0] == srcIP:\n",
    "                is_in_S = True\n",
    "                new_value = value  \n",
    "                if destIP_to_port_ratio > K or destport_to_ip_ratio > K:\n",
    "                    new_value[1] = value[1]*(P_Y_1_H_1/P_Y_1_H_0)\n",
    "                else:\n",
    "                    new_value[1] = value[1]*(P_Y_0_H_1/P_Y_0_H_0)\n",
    "                S[i] = new_value\n",
    "                break\n",
    "        if not is_in_S:\n",
    "            new_value = [srcIP, 1]\n",
    "            if destIP_to_port_ratio > K or destport_to_ip_ratio > K:\n",
    "                new_value[1] = P_Y_1_H_1/P_Y_1_H_0\n",
    "            else:\n",
    "                new_value[1] = P_Y_0_H_1/P_Y_0_H_0\n",
    "            S.append(new_value)\n",
    "    for i, value in enumerate(S):\n",
    "        is_in_T = False\n",
    "        srcIP_in_S = value[0]\n",
    "        for record in T:\n",
    "            if srcIP_in_S == record[0]:\n",
    "                is_in_T = True\n",
    "                break\n",
    "        if not is_in_T:\n",
    "            new_value = value\n",
    "            new_value[1] = value[1]*(P_Y_0_H_1/P_Y_0_H_0)\n",
    "            S[i] = new_value\n",
    "    \n",
    "    S, scan = update_scan(S, scan)\n",
    "            \n",
    "    return S, scan\n",
    "\n",
    "def TAPS(trace, N = N, K = K):\n",
    "    trace = trace.sort_values('EndTime', ascending = True).reset_index(drop=True) #trie le DataFrame par ordre décroissant de EndTime et le réindex\n",
    "    T = [] #Temp cache\n",
    "    S = [] #list of sources undertest\n",
    "    scan = [] # list of scanner\n",
    "    start_time_trace = trace.iloc[0][\"EndTime\"] # first end time of the trace\n",
    "    end_time_trace = trace.iloc[trace.shape[0] - 1][\"EndTime\"] # last end time of the trace\n",
    "    t = datetime.datetime.utcfromtimestamp(start_time_trace.timestamp()+N) \n",
    "    trace_subset = trace[trace[\"EndTime\"] < t]\n",
    "    flow = trace.iloc[0]\n",
    "    while flow[\"EndTime\"] != end_time_trace:\n",
    "        for i in range(len(trace_subset)):\n",
    "            flow = trace_subset.iloc[i]\n",
    "            T = update_T(flow, T)\n",
    "        #print(f'T = {T}')\n",
    "        if T == [] and S == []:\n",
    "            old_t = trace.iloc[last_ind][\"EndTime\"]\n",
    "            #print(f'old_t = {old_t}')\n",
    "            t = datetime.datetime.utcfromtimestamp(old_t.timestamp() + N)\n",
    "            #print(f't = {t}')\n",
    "            trace_subset = trace[list((trace[\"EndTime\"] < t) & (old_t <= trace[\"EndTime\"]))]\n",
    "        else :\n",
    "            S, scan = update_S(T, S, scan, K)\n",
    "            #print(f'S = {S}')\n",
    "            #print(f'scan = {scan}')\n",
    "            old_t = t\n",
    "            #print(f'old_t = {old_t}')\n",
    "            t = datetime.datetime.fromtimestamp(old_t.timestamp()+N)\n",
    "            #print(f't = {t}')\n",
    "            if trace_subset.shape[0] != 0:\n",
    "                last_ind = trace_subset[trace_subset[\"EndTime\"] == trace_subset[\"EndTime\"].max()].index[0] + 1\n",
    "            trace_subset = trace[list((trace[\"EndTime\"] < t) & (old_t <= trace[\"EndTime\"]))]\n",
    "            T = []\n",
    "    \n",
    "    return scan"
   ]
  },
  {
   "cell_type": "markdown",
   "metadata": {},
   "source": [
    "# Phase d'apprentissage "
   ]
  },
  {
   "cell_type": "markdown",
   "metadata": {},
   "source": [
    "## Découpe du dataset 8 en 5 datasets"
   ]
  },
  {
   "cell_type": "markdown",
   "metadata": {},
   "source": [
    "trie du dataset 8 par ordre décroissant de \"EndTime\""
   ]
  },
  {
   "cell_type": "code",
   "execution_count": 95,
   "metadata": {},
   "outputs": [
    {
     "data": {
      "text/html": [
       "<div>\n",
       "<style scoped>\n",
       "    .dataframe tbody tr th:only-of-type {\n",
       "        vertical-align: middle;\n",
       "    }\n",
       "\n",
       "    .dataframe tbody tr th {\n",
       "        vertical-align: top;\n",
       "    }\n",
       "\n",
       "    .dataframe thead th {\n",
       "        text-align: right;\n",
       "    }\n",
       "</style>\n",
       "<table border=\"1\" class=\"dataframe\">\n",
       "  <thead>\n",
       "    <tr style=\"text-align: right;\">\n",
       "      <th></th>\n",
       "      <th>StartTime</th>\n",
       "      <th>Dur</th>\n",
       "      <th>Proto</th>\n",
       "      <th>SrcAddr</th>\n",
       "      <th>Sport</th>\n",
       "      <th>Dir</th>\n",
       "      <th>DstAddr</th>\n",
       "      <th>Dport</th>\n",
       "      <th>State</th>\n",
       "      <th>sTos</th>\n",
       "      <th>dTos</th>\n",
       "      <th>TotPkts</th>\n",
       "      <th>TotBytes</th>\n",
       "      <th>SrcBytes</th>\n",
       "      <th>Label</th>\n",
       "      <th>EndTime</th>\n",
       "    </tr>\n",
       "  </thead>\n",
       "  <tbody>\n",
       "    <tr>\n",
       "      <th>0</th>\n",
       "      <td>2011-08-16 14:18:55.915801</td>\n",
       "      <td>0.000000</td>\n",
       "      <td>tcp</td>\n",
       "      <td>76.13.114.90</td>\n",
       "      <td>80</td>\n",
       "      <td>?&gt;</td>\n",
       "      <td>147.32.84.59</td>\n",
       "      <td>55651</td>\n",
       "      <td>A_</td>\n",
       "      <td>0.0</td>\n",
       "      <td>NaN</td>\n",
       "      <td>1</td>\n",
       "      <td>60</td>\n",
       "      <td>60</td>\n",
       "      <td>flow=Background-Established-cmpgw-CVUT</td>\n",
       "      <td>2011-08-16 14:18:55.915801</td>\n",
       "    </tr>\n",
       "    <tr>\n",
       "      <th>1</th>\n",
       "      <td>2011-08-16 14:18:55.951353</td>\n",
       "      <td>0.000000</td>\n",
       "      <td>udp</td>\n",
       "      <td>208.61.3.140</td>\n",
       "      <td>54949</td>\n",
       "      <td>-&gt;</td>\n",
       "      <td>147.32.84.229</td>\n",
       "      <td>13363</td>\n",
       "      <td>INT</td>\n",
       "      <td>0.0</td>\n",
       "      <td>NaN</td>\n",
       "      <td>1</td>\n",
       "      <td>61</td>\n",
       "      <td>61</td>\n",
       "      <td>flow=Background-UDP-Attempt</td>\n",
       "      <td>2011-08-16 14:18:55.951353</td>\n",
       "    </tr>\n",
       "    <tr>\n",
       "      <th>2</th>\n",
       "      <td>2011-08-16 14:18:55.983757</td>\n",
       "      <td>0.000000</td>\n",
       "      <td>tcp</td>\n",
       "      <td>60.241.241.208</td>\n",
       "      <td>53011</td>\n",
       "      <td>?&gt;</td>\n",
       "      <td>147.32.86.110</td>\n",
       "      <td>31338</td>\n",
       "      <td>A_</td>\n",
       "      <td>0.0</td>\n",
       "      <td>NaN</td>\n",
       "      <td>1</td>\n",
       "      <td>60</td>\n",
       "      <td>60</td>\n",
       "      <td>flow=Background</td>\n",
       "      <td>2011-08-16 14:18:55.983757</td>\n",
       "    </tr>\n",
       "    <tr>\n",
       "      <th>3</th>\n",
       "      <td>2011-08-16 14:18:56.031401</td>\n",
       "      <td>0.000253</td>\n",
       "      <td>udp</td>\n",
       "      <td>147.32.84.138</td>\n",
       "      <td>48054</td>\n",
       "      <td>&lt;-&gt;</td>\n",
       "      <td>147.32.80.9</td>\n",
       "      <td>53</td>\n",
       "      <td>CON</td>\n",
       "      <td>0.0</td>\n",
       "      <td>0.0</td>\n",
       "      <td>2</td>\n",
       "      <td>214</td>\n",
       "      <td>81</td>\n",
       "      <td>flow=To-Background-UDP-CVUT-DNS-Server</td>\n",
       "      <td>2011-08-16 14:18:56.031654</td>\n",
       "    </tr>\n",
       "    <tr>\n",
       "      <th>4</th>\n",
       "      <td>2011-08-16 14:18:56.031408</td>\n",
       "      <td>0.000331</td>\n",
       "      <td>udp</td>\n",
       "      <td>147.32.84.138</td>\n",
       "      <td>54989</td>\n",
       "      <td>&lt;-&gt;</td>\n",
       "      <td>147.32.80.9</td>\n",
       "      <td>53</td>\n",
       "      <td>CON</td>\n",
       "      <td>0.0</td>\n",
       "      <td>0.0</td>\n",
       "      <td>2</td>\n",
       "      <td>214</td>\n",
       "      <td>81</td>\n",
       "      <td>flow=To-Background-UDP-CVUT-DNS-Server</td>\n",
       "      <td>2011-08-16 14:18:56.031739</td>\n",
       "    </tr>\n",
       "  </tbody>\n",
       "</table>\n",
       "</div>"
      ],
      "text/plain": [
       "                   StartTime       Dur Proto         SrcAddr  Sport    Dir  \\\n",
       "0 2011-08-16 14:18:55.915801  0.000000   tcp    76.13.114.90     80     ?>   \n",
       "1 2011-08-16 14:18:55.951353  0.000000   udp    208.61.3.140  54949     ->   \n",
       "2 2011-08-16 14:18:55.983757  0.000000   tcp  60.241.241.208  53011     ?>   \n",
       "3 2011-08-16 14:18:56.031401  0.000253   udp   147.32.84.138  48054    <->   \n",
       "4 2011-08-16 14:18:56.031408  0.000331   udp   147.32.84.138  54989    <->   \n",
       "\n",
       "         DstAddr  Dport State  sTos  dTos  TotPkts  TotBytes  SrcBytes  \\\n",
       "0   147.32.84.59  55651    A_   0.0   NaN        1        60        60   \n",
       "1  147.32.84.229  13363   INT   0.0   NaN        1        61        61   \n",
       "2  147.32.86.110  31338    A_   0.0   NaN        1        60        60   \n",
       "3    147.32.80.9     53   CON   0.0   0.0        2       214        81   \n",
       "4    147.32.80.9     53   CON   0.0   0.0        2       214        81   \n",
       "\n",
       "                                    Label                    EndTime  \n",
       "0  flow=Background-Established-cmpgw-CVUT 2011-08-16 14:18:55.915801  \n",
       "1             flow=Background-UDP-Attempt 2011-08-16 14:18:55.951353  \n",
       "2                         flow=Background 2011-08-16 14:18:55.983757  \n",
       "3  flow=To-Background-UDP-CVUT-DNS-Server 2011-08-16 14:18:56.031654  \n",
       "4  flow=To-Background-UDP-CVUT-DNS-Server 2011-08-16 14:18:56.031739  "
      ]
     },
     "execution_count": 95,
     "metadata": {},
     "output_type": "execute_result"
    }
   ],
   "source": [
    "df8_train = df8_train.sort_values('EndTime', ascending = True).reset_index(drop=True)\n",
    "df8_train.head()"
   ]
  },
  {
   "cell_type": "markdown",
   "metadata": {},
   "source": [
    "découpage du dataset 8 en une liste de 5 datasets"
   ]
  },
  {
   "cell_type": "code",
   "execution_count": 96,
   "metadata": {},
   "outputs": [],
   "source": [
    "list_df_train = [df8_train.iloc[int(df8_train.shape[0]/5)*i:int(df8_train.shape[0]/5)*(i+1)] for i in range(5)]"
   ]
  },
  {
   "cell_type": "markdown",
   "metadata": {},
   "source": [
    "## Étude statistique des datasets de train pour essayer de comprendre les résultats de l'algorithme"
   ]
  },
  {
   "cell_type": "code",
   "execution_count": 97,
   "metadata": {},
   "outputs": [
    {
     "name": "stdout",
     "output_type": "stream",
     "text": [
      "SrcAddr\n",
      "147.32.84.165    903\n",
      "Name: count, dtype: int64\n",
      "nombre IP source : 1, nombre IP destination 399\n",
      "SrcAddr\n",
      "147.32.84.165    794\n",
      "Name: count, dtype: int64\n",
      "nombre IP source : 1, nombre IP destination 272\n",
      "SrcAddr\n",
      "147.32.84.165    1594\n",
      "Name: count, dtype: int64\n",
      "nombre IP source : 1, nombre IP destination 276\n",
      "SrcAddr\n",
      "147.32.84.165    1597\n",
      "Name: count, dtype: int64\n",
      "nombre IP source : 1, nombre IP destination 306\n",
      "SrcAddr\n",
      "147.32.84.165    1239\n",
      "Name: count, dtype: int64\n",
      "nombre IP source : 1, nombre IP destination 277\n"
     ]
    }
   ],
   "source": [
    "for df_train in list_df_train:\n",
    "    df_train_botnet, df_train_normal_background = separate_botnet(df_train)\n",
    "    source_IP_botnet, dest_IP_botnet = affichage_IP_addresses(df_train_botnet)\n",
    "    print(source_IP_botnet)\n",
    "    print(f\"nombre IP source : {len(source_IP_botnet)}, nombre IP destination {len(dest_IP_botnet)}\")"
   ]
  },
  {
   "cell_type": "code",
   "execution_count": 104,
   "metadata": {},
   "outputs": [
    {
     "name": "stdout",
     "output_type": "stream",
     "text": [
      "nombre IP source : 73136, nombre IP destination : 39414, nombre de flux: 589943\n",
      "nombre IP source : 99332, nombre IP destination : 43447, nombre de flux: 590052\n",
      "nombre IP source : 125329, nombre IP destination : 40297, nombre de flux: 589252\n",
      "nombre IP source : 93100, nombre IP destination : 24553, nombre de flux: 589249\n",
      "nombre IP source : 94969, nombre IP destination : 34644, nombre de flux: 589607\n"
     ]
    }
   ],
   "source": [
    "for df_train in list_df_train:\n",
    "    df_train_botnet, df_train_normal_background = separate_botnet(df_train)\n",
    "    source_IP_normal, dest_IP_normal = affichage_IP_addresses(df_train_normal_background)\n",
    "    print(f\"nombre IP source : {len(source_IP_normal)}, nombre IP destination : {len(dest_IP_normal)}, nombre de flux: {len(df_train_normal_background)}\")"
   ]
  },
  {
   "cell_type": "code",
   "execution_count": 98,
   "metadata": {},
   "outputs": [
    {
     "name": "stdout",
     "output_type": "stream",
     "text": [
      "nombre de port source distincts : 858\n",
      "nombre de port destination distincts : 13\n"
     ]
    },
    {
     "data": {
      "image/png": "[encoded data removed]",
      "text/plain": [
       "<Figure size 1000x700 with 1 Axes>"
      ]
     },
     "metadata": {},
     "output_type": "display_data"
    },
    {
     "name": "stdout",
     "output_type": "stream",
     "text": [
      "nombre de port source distincts : 753\n",
      "nombre de port destination distincts : 5\n"
     ]
    },
    {
     "data": {
      "image/png": "[encoded data removed]",
      "text/plain": [
       "<Figure size 1000x700 with 1 Axes>"
      ]
     },
     "metadata": {},
     "output_type": "display_data"
    },
    {
     "name": "stdout",
     "output_type": "stream",
     "text": [
      "nombre de port source distincts : 1383\n",
      "nombre de port destination distincts : 5\n"
     ]
    },
    {
     "data": {
      "image/png": "[encoded data removed]",
      "text/plain": [
       "<Figure size 1000x700 with 1 Axes>"
      ]
     },
     "metadata": {},
     "output_type": "display_data"
    },
    {
     "name": "stdout",
     "output_type": "stream",
     "text": [
      "nombre de port source distincts : 1349\n",
      "nombre de port destination distincts : 4\n"
     ]
    },
    {
     "data": {
      "image/png": "[encoded data removed]",
      "text/plain": [
       "<Figure size 1000x700 with 1 Axes>"
      ]
     },
     "metadata": {},
     "output_type": "display_data"
    },
    {
     "name": "stdout",
     "output_type": "stream",
     "text": [
      "nombre de port source distincts : 1099\n",
      "nombre de port destination distincts : 4\n"
     ]
    },
    {
     "data": {
      "image/png": "[encoded data removed]",
      "text/plain": [
       "<Figure size 1000x700 with 1 Axes>"
      ]
     },
     "metadata": {},
     "output_type": "display_data"
    }
   ],
   "source": [
    "for df_train in list_df_train:\n",
    "    df_train_botnet, df_train_normal_background = separate_botnet(df_train)\n",
    "    Sport_values = get_Sport_values(df_train_botnet)\n",
    "    Dport_values  = get_Dport_values(df_train_botnet)    \n",
    "    #print(Sport_values)\n",
    "    print(f\"nombre de port source distincts : {len(Sport_values)}\")\n",
    "    print(f\"nombre de port destination distincts : {len(Dport_values)}\")\n",
    "    plt.figure(figsize=(10,7))\n",
    "    plt.bar(x = Dport_values.index, height=Dport_values.values, )\n",
    "    plt.show()"
   ]
  },
  {
   "cell_type": "code",
   "execution_count": 103,
   "metadata": {},
   "outputs": [
    {
     "name": "stdout",
     "output_type": "stream",
     "text": [
      "nombre de port source distincts : 57385\n",
      "nombre de port destination distincts : 28747\n",
      "nombre de port source distincts : 60045\n",
      "nombre de port destination distincts : 30877\n",
      "nombre de port source distincts : 61844\n",
      "nombre de port destination distincts : 30884\n",
      "nombre de port source distincts : 58847\n",
      "nombre de port destination distincts : 23818\n",
      "nombre de port source distincts : 59356\n",
      "nombre de port destination distincts : 28918\n"
     ]
    }
   ],
   "source": [
    "for df_train in list_df_train:\n",
    "    df_train_botnet, df_train_normal_background = separate_botnet(df_train)\n",
    "    Sport_values = get_Sport_values(df_train_normal_background)\n",
    "    Dport_values  = get_Dport_values(df_train_normal_background)\n",
    "    print(f\"nombre de port source distincts : {len(Sport_values)}\")\n",
    "    print(f\"nombre de port destination distincts : {len(Dport_values)}\")"
   ]
  },
  {
   "cell_type": "code",
   "execution_count": null,
   "metadata": {},
   "outputs": [
    {
     "name": "stdout",
     "output_type": "stream",
     "text": [
      "SrcAddr\n",
      "147.32.84.165    4630\n",
      "Name: count, dtype: int64\n",
      "nombre IP source : 1, nombre IP destination 1579\n",
      "nombre de port source distincts : 2790\n",
      "nombre de port destination distincts : 6\n"
     ]
    },
    {
     "data": {
      "text/plain": [
       "<BarContainer object of 6 artists>"
      ]
     },
     "execution_count": 56,
     "metadata": {},
     "output_type": "execute_result"
    },
    {
     "data": {
      "image/png": "[encoded data removed]",
      "text/plain": [
       "<Figure size 640x480 with 1 Axes>"
      ]
     },
     "metadata": {},
     "output_type": "display_data"
    }
   ],
   "source": [
    "df6_test_botnet, df6_test_normal_background = separate_botnet(df6_test)\n",
    "source_IP_botnet, dest_IP_botnet = affichage_IP_addresses(df6_test_botnet)\n",
    "print(source_IP_botnet)\n",
    "print(f\"nombre IP source : {len(source_IP_botnet)}, nombre IP destination {len(dest_IP_botnet)}\")\n",
    "Sport_values = get_Sport_values(df6_test_botnet)\n",
    "Dport_values  = get_Dport_values(df6_test_botnet)\n",
    "print(f\"nombre de port source distincts : {len(Sport_values)}\")\n",
    "print(f\"nombre de port destination distincts : {len(Dport_values)}\")\n",
    "plt.bar(x = Dport_values.index, height=Dport_values.values)\n"
   ]
  },
  {
   "cell_type": "code",
   "execution_count": 105,
   "metadata": {},
   "outputs": [
    {
     "name": "stdout",
     "output_type": "stream",
     "text": [
      "nombre IP source : 72344, nombre IP destination : 40862, nombre de flux: 554289\n",
      "nombre de port source distincts : 57515\n",
      "nombre de port destination distincts : 30361\n"
     ]
    }
   ],
   "source": [
    "df_tes_botnet, df_test_normal_background = separate_botnet(df6_test)\n",
    "source_IP_normal, dest_IP_normal = affichage_IP_addresses(df_test_normal_background)\n",
    "print(f\"nombre IP source : {len(source_IP_normal)}, nombre IP destination : {len(dest_IP_normal)}, nombre de flux: {len(df_test_normal_background)}\")\n",
    "Sport_values = get_Sport_values(df_test_normal_background)\n",
    "Dport_values  = get_Dport_values(df_test_normal_background)\n",
    "print(f\"nombre de port source distincts : {len(Sport_values)}\")\n",
    "print(f\"nombre de port destination distincts : {len(Dport_values)}\")"
   ]
  },
  {
   "cell_type": "markdown",
   "metadata": {},
   "source": [
    "## Execuction de l'algorithme sur les 5 datasets de train avec les valeurs de paramètre par défaut du papier "
   ]
  },
  {
   "cell_type": "code",
   "execution_count": null,
   "metadata": {},
   "outputs": [
    {
     "name": "stdout",
     "output_type": "stream",
     "text": [
      "['147.32.86.50', '147.32.84.59', '147.32.84.165', '147.32.86.17', '147.32.84.132', '147.32.84.170', '147.32.84.123']\n",
      "['147.32.86.17', '147.32.84.123', '147.32.84.165', '147.32.84.59', '147.32.84.170', '147.32.84.164', '147.32.85.76']\n",
      "['147.32.84.165', '147.32.85.76', '217.195.122.126', '147.32.84.114']\n",
      "['147.32.84.165', '147.32.84.138', '147.32.86.89', '147.32.85.120', '90.177.113.3']\n",
      "['147.32.84.165', '147.32.86.89', '147.32.84.171', '147.32.84.164', '147.32.84.114', '92.62.224.17', '147.32.85.124', '147.32.86.148', '147.32.84.170', '147.32.84.59']\n"
     ]
    }
   ],
   "source": [
    "for df_train in list_df_train:\n",
    "    scan_bot_test = TAPS(df_train)\n",
    "    print(scan_bot_test)"
   ]
  },
  {
   "cell_type": "markdown",
   "metadata": {},
   "source": [
    "## Calcul des valeurs de performance sur les datasets de training"
   ]
  },
  {
   "cell_type": "code",
   "execution_count": 99,
   "metadata": {},
   "outputs": [],
   "source": [
    "def performance(df, list_N, list_K):\n",
    "    final_result = {}\n",
    "    for N in list_N:\n",
    "        final_result[f\"N = {N}\"] = {}\n",
    "        for K in list_K:\n",
    "            TP, FP= 0, 0\n",
    "            df_botnet, df_normal_background = separate_botnet(df)\n",
    "            source_IP_botnet, dest_IP_botnet = affichage_IP_addresses(df_botnet)\n",
    "            source_IP_normal_background, dest_IP_normal_background = affichage_IP_addresses(df_normal_background)\n",
    "            scanner_IPs = list(source_IP_botnet.index)\n",
    "            normal_IPs = list(source_IP_normal_background.index)\n",
    "            scan_result = TAPS(df, N, K)\n",
    "            print(f\"scan result : {scan_result}\")\n",
    "            print(f\"botnet IPs : {scanner_IPs}\")\n",
    "            for ip in scan_result:\n",
    "                if ip in scanner_IPs:\n",
    "                    TP += 1\n",
    "                else :\n",
    "                    FP += 1\n",
    "            TN = len(normal_IPs) - FP\n",
    "            FN = len(scanner_IPs) - TP\n",
    "            print(f\"TP : {TP}, FP : {FP}, TN : {TN}, FN : {FN}\")\n",
    "            result = {\"precision\" : TP/(TP+FP), \"accuracy\" : (TP+TN)/(TP+TN+FP+FN), \"error rate\" : (FN+FP)/(TP+TN+FP+FN)}\n",
    "            print(result)\n",
    "            final_result[f\"N = {N}\"][f\"K = {K}\"] = result\n",
    "            \n",
    "    return final_result\n",
    "                "
   ]
  },
  {
   "cell_type": "code",
   "execution_count": null,
   "metadata": {},
   "outputs": [
    {
     "name": "stdout",
     "output_type": "stream",
     "text": [
      "scan result : ['147.32.84.138', '147.32.86.89', '147.32.86.88', '147.32.86.5', '188.138.106.141', '147.32.85.120', '90.177.113.3']\n",
      "botnet IPs : ['147.32.84.165']\n",
      "147.32.84.138\n",
      "False\n",
      "147.32.86.89\n",
      "False\n",
      "147.32.86.88\n",
      "False\n",
      "147.32.86.5\n",
      "False\n",
      "188.138.106.141\n",
      "False\n",
      "147.32.85.120\n",
      "False\n",
      "90.177.113.3\n",
      "False\n",
      "TP : 0, FP : 7, TN : 93093, FN : 1\n",
      "{'precision': 0.0, 'accuracy': 0.999914071814481, 'error rate': 8.592818551895253e-05}\n",
      "scan result : ['147.32.84.138', '188.138.106.141', '147.32.85.120', '90.177.113.3']\n",
      "botnet IPs : ['147.32.84.165']\n",
      "147.32.84.138\n",
      "False\n",
      "188.138.106.141\n",
      "False\n",
      "147.32.85.120\n",
      "False\n",
      "90.177.113.3\n",
      "False\n",
      "TP : 0, FP : 4, TN : 93096, FN : 1\n",
      "{'precision': 0.0, 'accuracy': 0.9999462948840506, 'error rate': 5.3705115949345335e-05}\n",
      "scan result : ['147.32.84.138', '90.177.113.3']\n",
      "botnet IPs : ['147.32.84.165']\n",
      "147.32.84.138\n",
      "False\n",
      "90.177.113.3\n",
      "False\n",
      "TP : 0, FP : 2, TN : 93098, FN : 1\n",
      "{'precision': 0.0, 'accuracy': 0.9999677769304304, 'error rate': 3.22230695696072e-05}\n",
      "scan result : ['147.32.86.20', '147.32.84.165', '147.32.84.138', '147.32.86.89', '147.32.86.5', '147.32.86.88', '147.32.85.120', '90.177.113.3']\n",
      "botnet IPs : ['147.32.84.165']\n",
      "147.32.86.20\n",
      "False\n",
      "147.32.84.165\n",
      "True\n",
      "147.32.84.138\n",
      "False\n",
      "147.32.86.89\n",
      "False\n",
      "147.32.86.5\n",
      "False\n",
      "147.32.86.88\n",
      "False\n",
      "147.32.85.120\n",
      "False\n",
      "90.177.113.3\n",
      "False\n",
      "TP : 1, FP : 7, TN : 93093, FN : 0\n",
      "{'precision': 0.125, 'accuracy': 0.9999248128376709, 'error rate': 7.518716232908347e-05}\n",
      "scan result : ['147.32.84.165', '147.32.84.138', '147.32.86.89', '147.32.85.120', '90.177.113.3']\n",
      "botnet IPs : ['147.32.84.165']\n",
      "147.32.84.165\n",
      "True\n",
      "147.32.84.138\n",
      "False\n",
      "147.32.86.89\n",
      "False\n",
      "147.32.85.120\n",
      "False\n",
      "90.177.113.3\n",
      "False\n",
      "TP : 1, FP : 4, TN : 93096, FN : 0\n",
      "{'precision': 0.2, 'accuracy': 0.9999570359072405, 'error rate': 4.2964092759476265e-05}\n",
      "scan result : ['147.32.84.165', '147.32.84.138', '147.32.85.120', '90.177.113.3']\n",
      "botnet IPs : ['147.32.84.165']\n",
      "147.32.84.165\n",
      "True\n",
      "147.32.84.138\n",
      "False\n",
      "147.32.85.120\n",
      "False\n",
      "90.177.113.3\n",
      "False\n",
      "TP : 1, FP : 3, TN : 93097, FN : 0\n",
      "{'precision': 0.25, 'accuracy': 0.9999677769304304, 'error rate': 3.22230695696072e-05}\n",
      "scan result : ['147.32.86.20', '147.32.84.165', '147.32.84.138', '147.32.86.89', '147.32.86.88', '147.32.86.5', '147.32.85.120', '90.177.113.3']\n",
      "botnet IPs : ['147.32.84.165']\n",
      "147.32.86.20\n",
      "False\n",
      "147.32.84.165\n",
      "True\n",
      "147.32.84.138\n",
      "False\n",
      "147.32.86.89\n",
      "False\n",
      "147.32.86.88\n",
      "False\n",
      "147.32.86.5\n",
      "False\n",
      "147.32.85.120\n",
      "False\n",
      "90.177.113.3\n",
      "False\n",
      "TP : 1, FP : 7, TN : 93093, FN : 0\n",
      "{'precision': 0.125, 'accuracy': 0.9999248128376709, 'error rate': 7.518716232908347e-05}\n",
      "scan result : ['147.32.84.165', '147.32.84.138', '147.32.85.120', '90.177.113.3']\n",
      "botnet IPs : ['147.32.84.165']\n",
      "147.32.84.165\n",
      "True\n",
      "147.32.84.138\n",
      "False\n",
      "147.32.85.120\n",
      "False\n",
      "90.177.113.3\n",
      "False\n",
      "TP : 1, FP : 3, TN : 93097, FN : 0\n",
      "{'precision': 0.25, 'accuracy': 0.9999677769304304, 'error rate': 3.22230695696072e-05}\n",
      "scan result : ['147.32.84.165', '147.32.84.138', '147.32.85.120', '90.177.113.3']\n",
      "botnet IPs : ['147.32.84.165']\n",
      "147.32.84.165\n",
      "True\n",
      "147.32.84.138\n",
      "False\n",
      "147.32.85.120\n",
      "False\n",
      "90.177.113.3\n",
      "False\n",
      "TP : 1, FP : 3, TN : 93097, FN : 0\n",
      "{'precision': 0.25, 'accuracy': 0.9999677769304304, 'error rate': 3.22230695696072e-05}\n",
      "{'N = 5': {'K = 2': {'precision': 0.0, 'accuracy': 0.999914071814481, 'error rate': 8.592818551895253e-05}, 'K = 3': {'precision': 0.0, 'accuracy': 0.9999462948840506, 'error rate': 5.3705115949345335e-05}, 'K = 4': {'precision': 0.0, 'accuracy': 0.9999677769304304, 'error rate': 3.22230695696072e-05}}, 'N = 10': {'K = 2': {'precision': 0.125, 'accuracy': 0.9999248128376709, 'error rate': 7.518716232908347e-05}, 'K = 3': {'precision': 0.2, 'accuracy': 0.9999570359072405, 'error rate': 4.2964092759476265e-05}, 'K = 4': {'precision': 0.25, 'accuracy': 0.9999677769304304, 'error rate': 3.22230695696072e-05}}, 'N = 15': {'K = 2': {'precision': 0.125, 'accuracy': 0.9999248128376709, 'error rate': 7.518716232908347e-05}, 'K = 3': {'precision': 0.25, 'accuracy': 0.9999677769304304, 'error rate': 3.22230695696072e-05}, 'K = 4': {'precision': 0.25, 'accuracy': 0.9999677769304304, 'error rate': 3.22230695696072e-05}}}\n"
     ]
    }
   ],
   "source": [
    "list_N = [5, 10, 15]\n",
    "list_K = [2,3,4]\n",
    "print(performance(list_df_train[3], list_N, list_K))"
   ]
  },
  {
   "cell_type": "code",
   "execution_count": null,
   "metadata": {},
   "outputs": [
    {
     "name": "stdout",
     "output_type": "stream",
     "text": [
      "scan result : ['147.32.84.165', '147.32.84.138', '147.32.85.120', '90.177.113.3']\n",
      "botnet IPs : ['147.32.84.165']\n",
      "TP : 1, FP : 3, TN : 93097, FN : 0\n",
      "{'precision': 0.25, 'accuracy': 0.9999677769304304, 'error rate': 3.22230695696072e-05}\n",
      "scan result : ['147.32.84.138', '147.32.84.165', '147.32.85.120', '90.177.113.3']\n",
      "botnet IPs : ['147.32.84.165']\n",
      "TP : 1, FP : 3, TN : 93097, FN : 0\n",
      "{'precision': 0.25, 'accuracy': 0.9999677769304304, 'error rate': 3.22230695696072e-05}\n",
      "scan result : ['147.32.84.138', '147.32.85.120', '90.177.113.3', '147.32.84.165']\n",
      "botnet IPs : ['147.32.84.165']\n",
      "TP : 1, FP : 3, TN : 93097, FN : 0\n",
      "{'precision': 0.25, 'accuracy': 0.9999677769304304, 'error rate': 3.22230695696072e-05}\n",
      "scan result : ['147.32.84.165', '147.32.84.138', '147.32.85.120', '90.177.113.3']\n",
      "botnet IPs : ['147.32.84.165']\n",
      "TP : 1, FP : 3, TN : 93097, FN : 0\n",
      "{'precision': 0.25, 'accuracy': 0.9999677769304304, 'error rate': 3.22230695696072e-05}\n",
      "scan result : ['147.32.84.165', '147.32.84.138', '147.32.85.120', '90.177.113.3']\n",
      "botnet IPs : ['147.32.84.165']\n",
      "TP : 1, FP : 3, TN : 93097, FN : 0\n",
      "{'precision': 0.25, 'accuracy': 0.9999677769304304, 'error rate': 3.22230695696072e-05}\n",
      "scan result : ['147.32.84.165', '147.32.84.138', '147.32.85.120', '90.177.113.3']\n",
      "botnet IPs : ['147.32.84.165']\n",
      "TP : 1, FP : 3, TN : 93097, FN : 0\n",
      "{'precision': 0.25, 'accuracy': 0.9999677769304304, 'error rate': 3.22230695696072e-05}\n",
      "scan result : ['147.32.84.165', '147.32.84.138', '147.32.86.89', '147.32.85.120', '90.177.113.3']\n",
      "botnet IPs : ['147.32.84.165']\n",
      "TP : 1, FP : 4, TN : 93096, FN : 0\n",
      "{'precision': 0.2, 'accuracy': 0.9999570359072405, 'error rate': 4.2964092759476265e-05}\n",
      "scan result : ['147.32.84.165', '147.32.84.138', '147.32.86.89', '147.32.85.120', '90.177.113.3']\n",
      "botnet IPs : ['147.32.84.165']\n",
      "TP : 1, FP : 4, TN : 93096, FN : 0\n",
      "{'precision': 0.2, 'accuracy': 0.9999570359072405, 'error rate': 4.2964092759476265e-05}\n",
      "scan result : ['147.32.84.165', '147.32.84.138', '147.32.85.120', '90.177.113.3']\n",
      "botnet IPs : ['147.32.84.165']\n",
      "TP : 1, FP : 3, TN : 93097, FN : 0\n",
      "{'precision': 0.25, 'accuracy': 0.9999677769304304, 'error rate': 3.22230695696072e-05}\n",
      "{'N = 15': {'K = 4': {'precision': 0.25, 'accuracy': 0.9999677769304304, 'error rate': 3.22230695696072e-05}, 'K = 5': {'precision': 0.25, 'accuracy': 0.9999677769304304, 'error rate': 3.22230695696072e-05}, 'K = 6': {'precision': 0.25, 'accuracy': 0.9999677769304304, 'error rate': 3.22230695696072e-05}}, 'N = 20': {'K = 4': {'precision': 0.25, 'accuracy': 0.9999677769304304, 'error rate': 3.22230695696072e-05}, 'K = 5': {'precision': 0.25, 'accuracy': 0.9999677769304304, 'error rate': 3.22230695696072e-05}, 'K = 6': {'precision': 0.25, 'accuracy': 0.9999677769304304, 'error rate': 3.22230695696072e-05}}, 'N = 25': {'K = 4': {'precision': 0.2, 'accuracy': 0.9999570359072405, 'error rate': 4.2964092759476265e-05}, 'K = 5': {'precision': 0.2, 'accuracy': 0.9999570359072405, 'error rate': 4.2964092759476265e-05}, 'K = 6': {'precision': 0.25, 'accuracy': 0.9999677769304304, 'error rate': 3.22230695696072e-05}}}\n"
     ]
    }
   ],
   "source": [
    "list_N = [15,20,25]\n",
    "list_K = [4,5,6]\n",
    "print(performance(list_df_train[3], list_N = list_N, list_K = list_K))"
   ]
  },
  {
   "cell_type": "code",
   "execution_count": null,
   "metadata": {},
   "outputs": [
    {
     "name": "stdout",
     "output_type": "stream",
     "text": [
      "scan result : ['147.32.86.50', '147.32.84.59', '147.32.85.7', '147.32.84.134', '147.32.86.15', '147.32.86.168', '147.32.86.208', '147.32.85.6', '147.32.84.170', '147.32.85.114', '147.32.84.181', '147.32.84.123', '147.32.86.17']\n",
      "botnet IPs : ['147.32.84.165']\n",
      "TP : 0, FP : 13, TN : 73123, FN : 1\n",
      "{'precision': 0.0, 'accuracy': 0.9998085784213189, 'error rate': 0.00019142157868110534}\n",
      "scan result : ['147.32.84.59']\n",
      "botnet IPs : ['147.32.84.165']\n",
      "TP : 0, FP : 1, TN : 73135, FN : 1\n",
      "{'precision': 0.0, 'accuracy': 0.9999726540601884, 'error rate': 2.7345939811586474e-05}\n",
      "scan result : ['147.32.84.59']\n",
      "botnet IPs : ['147.32.84.165']\n",
      "TP : 0, FP : 1, TN : 73135, FN : 1\n",
      "{'precision': 0.0, 'accuracy': 0.9999726540601884, 'error rate': 2.7345939811586474e-05}\n",
      "scan result : ['147.32.84.164', '147.32.86.50', '147.32.86.20', '147.32.84.59', '147.32.84.168', '147.32.85.7', '147.32.86.182', '147.32.85.120', '147.32.84.165', '147.32.86.15', '147.32.85.6', '147.32.84.132', '147.32.84.123', '147.32.86.17', '147.32.84.170', '147.32.85.114']\n",
      "botnet IPs : ['147.32.84.165']\n",
      "TP : 1, FP : 15, TN : 73121, FN : 0\n",
      "{'precision': 0.0625, 'accuracy': 0.9997949054514131, 'error rate': 0.00020509454858689855}\n",
      "scan result : ['147.32.86.50', '147.32.84.59', '147.32.84.165', '147.32.86.17', '147.32.84.132', '147.32.84.170', '147.32.84.123']\n",
      "botnet IPs : ['147.32.84.165']\n",
      "TP : 1, FP : 6, TN : 73130, FN : 0\n",
      "{'precision': 0.14285714285714285, 'accuracy': 0.9999179621805653, 'error rate': 8.203781943475943e-05}\n",
      "scan result : ['147.32.86.50', '147.32.84.59', '147.32.84.165']\n",
      "botnet IPs : ['147.32.84.165']\n",
      "TP : 1, FP : 2, TN : 73134, FN : 0\n",
      "{'precision': 0.3333333333333333, 'accuracy': 0.9999726540601884, 'error rate': 2.7345939811586474e-05}\n",
      "scan result : ['147.32.86.20', '147.32.86.50', '147.32.85.8', '147.32.86.17', '147.32.84.59', '147.32.85.7', '147.32.84.168', '147.32.85.120', '147.32.87.48', '147.32.84.165', '147.32.86.15', '147.32.85.6', '147.32.84.132', '147.32.86.168', '147.32.84.123', '147.32.86.187', '147.32.84.170', '147.32.84.134', '147.32.85.114', '64.40.10.54']\n",
      "botnet IPs : ['147.32.84.165']\n",
      "TP : 1, FP : 19, TN : 73117, FN : 0\n",
      "{'precision': 0.05, 'accuracy': 0.9997402135717899, 'error rate': 0.0002597864282100715}\n",
      "scan result : ['147.32.86.50', '147.32.84.59', '147.32.84.168', '147.32.84.165', '147.32.85.6', '147.32.86.17', '147.32.84.132', '147.32.84.170']\n",
      "botnet IPs : ['147.32.84.165']\n",
      "TP : 1, FP : 7, TN : 73129, FN : 0\n",
      "{'precision': 0.125, 'accuracy': 0.9999042892106594, 'error rate': 9.571078934055267e-05}\n",
      "scan result : ['147.32.86.50', '147.32.84.59', '147.32.84.165']\n",
      "botnet IPs : ['147.32.84.165']\n",
      "TP : 1, FP : 2, TN : 73134, FN : 0\n",
      "{'precision': 0.3333333333333333, 'accuracy': 0.9999726540601884, 'error rate': 2.7345939811586474e-05}\n",
      "{'N = 5': {'K = 2': {'precision': 0.0, 'accuracy': 0.9998085784213189, 'error rate': 0.00019142157868110534}, 'K = 3': {'precision': 0.0, 'accuracy': 0.9999726540601884, 'error rate': 2.7345939811586474e-05}, 'K = 4': {'precision': 0.0, 'accuracy': 0.9999726540601884, 'error rate': 2.7345939811586474e-05}}, 'N = 10': {'K = 2': {'precision': 0.0625, 'accuracy': 0.9997949054514131, 'error rate': 0.00020509454858689855}, 'K = 3': {'precision': 0.14285714285714285, 'accuracy': 0.9999179621805653, 'error rate': 8.203781943475943e-05}, 'K = 4': {'precision': 0.3333333333333333, 'accuracy': 0.9999726540601884, 'error rate': 2.7345939811586474e-05}}, 'N = 15': {'K = 2': {'precision': 0.05, 'accuracy': 0.9997402135717899, 'error rate': 0.0002597864282100715}, 'K = 3': {'precision': 0.125, 'accuracy': 0.9999042892106594, 'error rate': 9.571078934055267e-05}, 'K = 4': {'precision': 0.3333333333333333, 'accuracy': 0.9999726540601884, 'error rate': 2.7345939811586474e-05}}}\n"
     ]
    }
   ],
   "source": [
    "list_N = [5, 10, 15]\n",
    "list_K = [2,3,4]\n",
    "print(performance(list_df_train[0], list_N, list_K))"
   ]
  },
  {
   "cell_type": "markdown",
   "metadata": {},
   "source": [
    "# Phase de test"
   ]
  },
  {
   "cell_type": "markdown",
   "metadata": {},
   "source": [
    "## Calcul des valeurs de performance sur les datasets de test"
   ]
  },
  {
   "cell_type": "code",
   "execution_count": 100,
   "metadata": {},
   "outputs": [
    {
     "name": "stdout",
     "output_type": "stream",
     "text": [
      "scan result : ['147.32.84.59', '147.32.85.123', '147.32.85.76', '147.32.84.165', '90.177.113.3', '147.32.84.166', '147.32.84.123']\n",
      "botnet IPs : ['147.32.84.165']\n",
      "TP : 1, FP : 6, TN : 72338, FN : 0\n",
      "{'precision': 0.14285714285714285, 'accuracy': 0.9999170640680075, 'error rate': 8.293593199253576e-05}\n",
      "{'N = 10': {'K = 4': {'precision': 0.14285714285714285, 'accuracy': 0.9999170640680075, 'error rate': 8.293593199253576e-05}}}\n"
     ]
    }
   ],
   "source": [
    "list_N = [10]\n",
    "list_K = [4]\n",
    "print(performance(df6_test, list_N, list_K))"
   ]
  }
 ],
 "metadata": {
  "kernelspec": {
   "display_name": ".venv",
   "language": "python",
   "name": "python3"
  },
  "language_info": {
   "codemirror_mode": {
    "name": "ipython",
    "version": 3
   },
   "file_extension": ".py",
   "mimetype": "text/x-python",
   "name": "python",
   "nbconvert_exporter": "python",
   "pygments_lexer": "ipython3",
   "version": "3.11.3"
  }
 },
 "nbformat": 4,
 "nbformat_minor": 2
}
